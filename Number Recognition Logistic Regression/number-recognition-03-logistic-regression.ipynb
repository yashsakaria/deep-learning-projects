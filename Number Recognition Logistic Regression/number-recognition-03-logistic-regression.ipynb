{
 "cells": [
  {
   "cell_type": "code",
   "execution_count": 1,
   "id": "6ce1d2fc",
   "metadata": {},
   "outputs": [],
   "source": [
    "!pip install jovian --upgrade -q\n",
    "import jovian\n",
    "jovian.set_project('03-logistic-regression')\n",
    "jovian.set_colab_id('1lqx4KsL8g2SGu3_YCedNf11oD_r9e5V5')"
   ]
  },
  {
   "cell_type": "code",
   "execution_count": 2,
   "id": "15050814",
   "metadata": {},
   "outputs": [],
   "source": [
    "import torch\n",
    "import torchvision\n",
    "from torchvision.datasets import MNIST"
   ]
  },
  {
   "cell_type": "code",
   "execution_count": 3,
   "id": "ce69483a",
   "metadata": {},
   "outputs": [
    {
     "name": "stdout",
     "output_type": "stream",
     "text": [
      "Downloading http://yann.lecun.com/exdb/mnist/train-images-idx3-ubyte.gz\n",
      "Downloading http://yann.lecun.com/exdb/mnist/train-images-idx3-ubyte.gz to data/MNIST\\raw\\train-images-idx3-ubyte.gz\n"
     ]
    },
    {
     "name": "stderr",
     "output_type": "stream",
     "text": [
      "100.0%\n"
     ]
    },
    {
     "name": "stdout",
     "output_type": "stream",
     "text": [
      "Extracting data/MNIST\\raw\\train-images-idx3-ubyte.gz to data/MNIST\\raw\n",
      "\n",
      "Downloading http://yann.lecun.com/exdb/mnist/train-labels-idx1-ubyte.gz\n",
      "Downloading http://yann.lecun.com/exdb/mnist/train-labels-idx1-ubyte.gz to data/MNIST\\raw\\train-labels-idx1-ubyte.gz\n"
     ]
    },
    {
     "name": "stderr",
     "output_type": "stream",
     "text": [
      "102.8%\n"
     ]
    },
    {
     "name": "stdout",
     "output_type": "stream",
     "text": [
      "Extracting data/MNIST\\raw\\train-labels-idx1-ubyte.gz to data/MNIST\\raw\n",
      "\n",
      "Downloading http://yann.lecun.com/exdb/mnist/t10k-images-idx3-ubyte.gz\n",
      "Downloading http://yann.lecun.com/exdb/mnist/t10k-images-idx3-ubyte.gz to data/MNIST\\raw\\t10k-images-idx3-ubyte.gz\n"
     ]
    },
    {
     "name": "stderr",
     "output_type": "stream",
     "text": [
      "100.0%\n"
     ]
    },
    {
     "name": "stdout",
     "output_type": "stream",
     "text": [
      "Extracting data/MNIST\\raw\\t10k-images-idx3-ubyte.gz to data/MNIST\\raw\n",
      "\n",
      "Downloading http://yann.lecun.com/exdb/mnist/t10k-labels-idx1-ubyte.gz\n",
      "Downloading http://yann.lecun.com/exdb/mnist/t10k-labels-idx1-ubyte.gz to data/MNIST\\raw\\t10k-labels-idx1-ubyte.gz\n"
     ]
    },
    {
     "name": "stderr",
     "output_type": "stream",
     "text": [
      "112.7%"
     ]
    },
    {
     "name": "stdout",
     "output_type": "stream",
     "text": [
      "Extracting data/MNIST\\raw\\t10k-labels-idx1-ubyte.gz to data/MNIST\\raw\n",
      "\n"
     ]
    },
    {
     "name": "stderr",
     "output_type": "stream",
     "text": [
      "\n",
      "C:\\Users\\yashr\\AppData\\Local\\Programs\\Python\\Python39\\lib\\site-packages\\torchvision\\datasets\\mnist.py:498: UserWarning: The given NumPy array is not writeable, and PyTorch does not support non-writeable tensors. This means you can write to the underlying (supposedly non-writeable) NumPy array using the tensor. You may want to copy the array to protect its data or make it writeable before converting it to a tensor. This type of warning will be suppressed for the rest of this program. (Triggered internally at  ..\\torch\\csrc\\utils\\tensor_numpy.cpp:180.)\n",
      "  return torch.from_numpy(parsed.astype(m[2], copy=False)).view(*s)\n"
     ]
    }
   ],
   "source": [
    "dataset = MNIST(root = 'data/' , download=True)"
   ]
  },
  {
   "cell_type": "code",
   "execution_count": 4,
   "id": "883393fb",
   "metadata": {},
   "outputs": [
    {
     "data": {
      "text/plain": [
       "60000"
      ]
     },
     "execution_count": 4,
     "metadata": {},
     "output_type": "execute_result"
    }
   ],
   "source": [
    "len(dataset)"
   ]
  },
  {
   "cell_type": "code",
   "execution_count": 5,
   "id": "5af396bc",
   "metadata": {},
   "outputs": [],
   "source": [
    "test_dataset = MNIST(root = 'data/' , train = False)"
   ]
  },
  {
   "cell_type": "code",
   "execution_count": 6,
   "id": "cdd27f04",
   "metadata": {},
   "outputs": [
    {
     "data": {
      "text/plain": [
       "10000"
      ]
     },
     "execution_count": 6,
     "metadata": {},
     "output_type": "execute_result"
    }
   ],
   "source": [
    "len(test_dataset)"
   ]
  },
  {
   "cell_type": "code",
   "execution_count": 7,
   "id": "e52b40ec",
   "metadata": {},
   "outputs": [
    {
     "data": {
      "text/plain": [
       "(<PIL.Image.Image image mode=L size=28x28 at 0x1B34F45F880>, 5)"
      ]
     },
     "execution_count": 7,
     "metadata": {},
     "output_type": "execute_result"
    }
   ],
   "source": [
    "dataset[0]"
   ]
  },
  {
   "cell_type": "code",
   "execution_count": 11,
   "id": "1ae3d850",
   "metadata": {},
   "outputs": [],
   "source": [
    "import matplotlib.pyplot as plt"
   ]
  },
  {
   "cell_type": "code",
   "execution_count": 194,
   "id": "e24a3b34",
   "metadata": {},
   "outputs": [],
   "source": [
    "%matplotlib inline"
   ]
  },
  {
   "cell_type": "code",
   "execution_count": 195,
   "id": "9c14da1e",
   "metadata": {},
   "outputs": [
    {
     "ename": "TypeError",
     "evalue": "Invalid shape (1, 28, 28) for image data",
     "output_type": "error",
     "traceback": [
      "\u001b[1;31m---------------------------------------------------------------------------\u001b[0m",
      "\u001b[1;31mTypeError\u001b[0m                                 Traceback (most recent call last)",
      "\u001b[1;32m~\\AppData\\Local\\Temp/ipykernel_8420/4103123289.py\u001b[0m in \u001b[0;36m<module>\u001b[1;34m\u001b[0m\n\u001b[0;32m      1\u001b[0m \u001b[0mimage\u001b[0m \u001b[1;33m,\u001b[0m \u001b[0mlabel\u001b[0m \u001b[1;33m=\u001b[0m \u001b[0mdataset\u001b[0m\u001b[1;33m[\u001b[0m\u001b[1;36m0\u001b[0m\u001b[1;33m]\u001b[0m\u001b[1;33m\u001b[0m\u001b[1;33m\u001b[0m\u001b[0m\n\u001b[1;32m----> 2\u001b[1;33m \u001b[0mplt\u001b[0m\u001b[1;33m.\u001b[0m\u001b[0mimshow\u001b[0m\u001b[1;33m(\u001b[0m\u001b[0mimage\u001b[0m \u001b[1;33m,\u001b[0m \u001b[0mcmap\u001b[0m\u001b[1;33m=\u001b[0m\u001b[1;34m'gray'\u001b[0m\u001b[1;33m)\u001b[0m\u001b[1;33m\u001b[0m\u001b[1;33m\u001b[0m\u001b[0m\n\u001b[0m\u001b[0;32m      3\u001b[0m \u001b[0mprint\u001b[0m\u001b[1;33m(\u001b[0m\u001b[1;34m'Label : '\u001b[0m \u001b[1;33m,\u001b[0m \u001b[0mlabel\u001b[0m\u001b[1;33m)\u001b[0m\u001b[1;33m\u001b[0m\u001b[1;33m\u001b[0m\u001b[0m\n",
      "\u001b[1;32m~\\AppData\\Local\\Programs\\Python\\Python39\\lib\\site-packages\\matplotlib\\pyplot.py\u001b[0m in \u001b[0;36mimshow\u001b[1;34m(X, cmap, norm, aspect, interpolation, alpha, vmin, vmax, origin, extent, filternorm, filterrad, resample, url, data, **kwargs)\u001b[0m\n\u001b[0;32m   2901\u001b[0m         \u001b[0mfilternorm\u001b[0m\u001b[1;33m=\u001b[0m\u001b[1;32mTrue\u001b[0m\u001b[1;33m,\u001b[0m \u001b[0mfilterrad\u001b[0m\u001b[1;33m=\u001b[0m\u001b[1;36m4.0\u001b[0m\u001b[1;33m,\u001b[0m \u001b[0mresample\u001b[0m\u001b[1;33m=\u001b[0m\u001b[1;32mNone\u001b[0m\u001b[1;33m,\u001b[0m \u001b[0murl\u001b[0m\u001b[1;33m=\u001b[0m\u001b[1;32mNone\u001b[0m\u001b[1;33m,\u001b[0m\u001b[1;33m\u001b[0m\u001b[1;33m\u001b[0m\u001b[0m\n\u001b[0;32m   2902\u001b[0m         data=None, **kwargs):\n\u001b[1;32m-> 2903\u001b[1;33m     __ret = gca().imshow(\n\u001b[0m\u001b[0;32m   2904\u001b[0m         \u001b[0mX\u001b[0m\u001b[1;33m,\u001b[0m \u001b[0mcmap\u001b[0m\u001b[1;33m=\u001b[0m\u001b[0mcmap\u001b[0m\u001b[1;33m,\u001b[0m \u001b[0mnorm\u001b[0m\u001b[1;33m=\u001b[0m\u001b[0mnorm\u001b[0m\u001b[1;33m,\u001b[0m \u001b[0maspect\u001b[0m\u001b[1;33m=\u001b[0m\u001b[0maspect\u001b[0m\u001b[1;33m,\u001b[0m\u001b[1;33m\u001b[0m\u001b[1;33m\u001b[0m\u001b[0m\n\u001b[0;32m   2905\u001b[0m         \u001b[0minterpolation\u001b[0m\u001b[1;33m=\u001b[0m\u001b[0minterpolation\u001b[0m\u001b[1;33m,\u001b[0m \u001b[0malpha\u001b[0m\u001b[1;33m=\u001b[0m\u001b[0malpha\u001b[0m\u001b[1;33m,\u001b[0m \u001b[0mvmin\u001b[0m\u001b[1;33m=\u001b[0m\u001b[0mvmin\u001b[0m\u001b[1;33m,\u001b[0m\u001b[1;33m\u001b[0m\u001b[1;33m\u001b[0m\u001b[0m\n",
      "\u001b[1;32m~\\AppData\\Local\\Programs\\Python\\Python39\\lib\\site-packages\\matplotlib\\__init__.py\u001b[0m in \u001b[0;36minner\u001b[1;34m(ax, data, *args, **kwargs)\u001b[0m\n\u001b[0;32m   1359\u001b[0m     \u001b[1;32mdef\u001b[0m \u001b[0minner\u001b[0m\u001b[1;33m(\u001b[0m\u001b[0max\u001b[0m\u001b[1;33m,\u001b[0m \u001b[1;33m*\u001b[0m\u001b[0margs\u001b[0m\u001b[1;33m,\u001b[0m \u001b[0mdata\u001b[0m\u001b[1;33m=\u001b[0m\u001b[1;32mNone\u001b[0m\u001b[1;33m,\u001b[0m \u001b[1;33m**\u001b[0m\u001b[0mkwargs\u001b[0m\u001b[1;33m)\u001b[0m\u001b[1;33m:\u001b[0m\u001b[1;33m\u001b[0m\u001b[1;33m\u001b[0m\u001b[0m\n\u001b[0;32m   1360\u001b[0m         \u001b[1;32mif\u001b[0m \u001b[0mdata\u001b[0m \u001b[1;32mis\u001b[0m \u001b[1;32mNone\u001b[0m\u001b[1;33m:\u001b[0m\u001b[1;33m\u001b[0m\u001b[1;33m\u001b[0m\u001b[0m\n\u001b[1;32m-> 1361\u001b[1;33m             \u001b[1;32mreturn\u001b[0m \u001b[0mfunc\u001b[0m\u001b[1;33m(\u001b[0m\u001b[0max\u001b[0m\u001b[1;33m,\u001b[0m \u001b[1;33m*\u001b[0m\u001b[0mmap\u001b[0m\u001b[1;33m(\u001b[0m\u001b[0msanitize_sequence\u001b[0m\u001b[1;33m,\u001b[0m \u001b[0margs\u001b[0m\u001b[1;33m)\u001b[0m\u001b[1;33m,\u001b[0m \u001b[1;33m**\u001b[0m\u001b[0mkwargs\u001b[0m\u001b[1;33m)\u001b[0m\u001b[1;33m\u001b[0m\u001b[1;33m\u001b[0m\u001b[0m\n\u001b[0m\u001b[0;32m   1362\u001b[0m \u001b[1;33m\u001b[0m\u001b[0m\n\u001b[0;32m   1363\u001b[0m         \u001b[0mbound\u001b[0m \u001b[1;33m=\u001b[0m \u001b[0mnew_sig\u001b[0m\u001b[1;33m.\u001b[0m\u001b[0mbind\u001b[0m\u001b[1;33m(\u001b[0m\u001b[0max\u001b[0m\u001b[1;33m,\u001b[0m \u001b[1;33m*\u001b[0m\u001b[0margs\u001b[0m\u001b[1;33m,\u001b[0m \u001b[1;33m**\u001b[0m\u001b[0mkwargs\u001b[0m\u001b[1;33m)\u001b[0m\u001b[1;33m\u001b[0m\u001b[1;33m\u001b[0m\u001b[0m\n",
      "\u001b[1;32m~\\AppData\\Local\\Programs\\Python\\Python39\\lib\\site-packages\\matplotlib\\axes\\_axes.py\u001b[0m in \u001b[0;36mimshow\u001b[1;34m(self, X, cmap, norm, aspect, interpolation, alpha, vmin, vmax, origin, extent, filternorm, filterrad, resample, url, **kwargs)\u001b[0m\n\u001b[0;32m   5607\u001b[0m                               resample=resample, **kwargs)\n\u001b[0;32m   5608\u001b[0m \u001b[1;33m\u001b[0m\u001b[0m\n\u001b[1;32m-> 5609\u001b[1;33m         \u001b[0mim\u001b[0m\u001b[1;33m.\u001b[0m\u001b[0mset_data\u001b[0m\u001b[1;33m(\u001b[0m\u001b[0mX\u001b[0m\u001b[1;33m)\u001b[0m\u001b[1;33m\u001b[0m\u001b[1;33m\u001b[0m\u001b[0m\n\u001b[0m\u001b[0;32m   5610\u001b[0m         \u001b[0mim\u001b[0m\u001b[1;33m.\u001b[0m\u001b[0mset_alpha\u001b[0m\u001b[1;33m(\u001b[0m\u001b[0malpha\u001b[0m\u001b[1;33m)\u001b[0m\u001b[1;33m\u001b[0m\u001b[1;33m\u001b[0m\u001b[0m\n\u001b[0;32m   5611\u001b[0m         \u001b[1;32mif\u001b[0m \u001b[0mim\u001b[0m\u001b[1;33m.\u001b[0m\u001b[0mget_clip_path\u001b[0m\u001b[1;33m(\u001b[0m\u001b[1;33m)\u001b[0m \u001b[1;32mis\u001b[0m \u001b[1;32mNone\u001b[0m\u001b[1;33m:\u001b[0m\u001b[1;33m\u001b[0m\u001b[1;33m\u001b[0m\u001b[0m\n",
      "\u001b[1;32m~\\AppData\\Local\\Programs\\Python\\Python39\\lib\\site-packages\\matplotlib\\image.py\u001b[0m in \u001b[0;36mset_data\u001b[1;34m(self, A)\u001b[0m\n\u001b[0;32m    707\u001b[0m         if not (self._A.ndim == 2\n\u001b[0;32m    708\u001b[0m                 or self._A.ndim == 3 and self._A.shape[-1] in [3, 4]):\n\u001b[1;32m--> 709\u001b[1;33m             raise TypeError(\"Invalid shape {} for image data\"\n\u001b[0m\u001b[0;32m    710\u001b[0m                             .format(self._A.shape))\n\u001b[0;32m    711\u001b[0m \u001b[1;33m\u001b[0m\u001b[0m\n",
      "\u001b[1;31mTypeError\u001b[0m: Invalid shape (1, 28, 28) for image data"
     ]
    },
    {
     "data": {
      "image/png": "[encoded data removed]",
      "text/plain": [
       "<Figure size 432x288 with 1 Axes>"
      ]
     },
     "metadata": {
      "needs_background": "light"
     },
     "output_type": "display_data"
    }
   ],
   "source": [
    "image , label = dataset[0]\n",
    "plt.imshow(image , cmap='gray')\n",
    "print('Label : ' , label)"
   ]
  },
  {
   "cell_type": "code",
   "execution_count": 15,
   "id": "30a55433",
   "metadata": {},
   "outputs": [
    {
     "name": "stdout",
     "output_type": "stream",
     "text": [
      "Label :  0\n"
     ]
    },
    {
     "data": {
      "image/png": "[encoded data removed]",
      "text/plain": [
       "<Figure size 432x288 with 1 Axes>"
      ]
     },
     "metadata": {
      "needs_background": "light"
     },
     "output_type": "display_data"
    }
   ],
   "source": [
    "image , label = dataset[1000]\n",
    "plt.imshow(image , cmap='gray')\n",
    "print('Label : ' , label)"
   ]
  },
  {
   "cell_type": "code",
   "execution_count": 16,
   "id": "6e928929",
   "metadata": {},
   "outputs": [],
   "source": [
    "import torchvision.transforms as transforms"
   ]
  },
  {
   "cell_type": "code",
   "execution_count": 19,
   "id": "11d43bfe",
   "metadata": {},
   "outputs": [],
   "source": [
    "dataset = MNIST(root='data/',\n",
    "                train=True,\n",
    "                transform = transforms.ToTensor())"
   ]
  },
  {
   "cell_type": "code",
   "execution_count": 21,
   "id": "f3701bf7",
   "metadata": {},
   "outputs": [
    {
     "name": "stdout",
     "output_type": "stream",
     "text": [
      "torch.Size([1, 28, 28]) 5\n"
     ]
    }
   ],
   "source": [
    "img_tensor , label = dataset[0]\n",
    "print(img_tensor.shape , label)"
   ]
  },
  {
   "cell_type": "code",
   "execution_count": 22,
   "id": "3ac2ad94",
   "metadata": {},
   "outputs": [
    {
     "name": "stdout",
     "output_type": "stream",
     "text": [
      "tensor([[0.0039, 0.6039, 0.9922, 0.3529, 0.0000],\n",
      "        [0.0000, 0.5451, 0.9922, 0.7451, 0.0078],\n",
      "        [0.0000, 0.0431, 0.7451, 0.9922, 0.2745],\n",
      "        [0.0000, 0.0000, 0.1373, 0.9451, 0.8824],\n",
      "        [0.0000, 0.0000, 0.0000, 0.3176, 0.9412]])\n"
     ]
    }
   ],
   "source": [
    "print(img_tensor[0,10:15,10:15])"
   ]
  },
  {
   "cell_type": "code",
   "execution_count": 23,
   "id": "3d3ed7d2",
   "metadata": {},
   "outputs": [
    {
     "name": "stdout",
     "output_type": "stream",
     "text": [
      "tensor(1.) tensor(0.)\n"
     ]
    }
   ],
   "source": [
    "print(torch.max(img_tensor) , torch.min(img_tensor))"
   ]
  },
  {
   "cell_type": "code",
   "execution_count": 24,
   "id": "5388f8b1",
   "metadata": {},
   "outputs": [
    {
     "data": {
      "text/plain": [
       "<matplotlib.image.AxesImage at 0x1b377dd1a00>"
      ]
     },
     "execution_count": 24,
     "metadata": {},
     "output_type": "execute_result"
    },
    {
     "data": {
      "image/png": "[encoded data removed]",
      "text/plain": [
       "<Figure size 432x288 with 1 Axes>"
      ]
     },
     "metadata": {
      "needs_background": "light"
     },
     "output_type": "display_data"
    }
   ],
   "source": [
    "plt.imshow(img_tensor[0,10:15,10:15] , cmap='gray')"
   ]
  },
  {
   "cell_type": "code",
   "execution_count": 25,
   "id": "084126fa",
   "metadata": {},
   "outputs": [],
   "source": [
    "from torch.utils.data import random_split"
   ]
  },
  {
   "cell_type": "code",
   "execution_count": 26,
   "id": "47dcc278",
   "metadata": {},
   "outputs": [],
   "source": [
    "train_ds , val_ds = random_split(dataset , [50000 , 10000])"
   ]
  },
  {
   "cell_type": "code",
   "execution_count": 27,
   "id": "5aec33b8",
   "metadata": {},
   "outputs": [
    {
     "data": {
      "text/plain": [
       "(50000, 10000)"
      ]
     },
     "execution_count": 27,
     "metadata": {},
     "output_type": "execute_result"
    }
   ],
   "source": [
    "len(train_ds) , len(val_ds)"
   ]
  },
  {
   "cell_type": "code",
   "execution_count": 28,
   "id": "b0942db0",
   "metadata": {},
   "outputs": [],
   "source": [
    "from torch.utils.data import DataLoader"
   ]
  },
  {
   "cell_type": "code",
   "execution_count": 29,
   "id": "978612ae",
   "metadata": {},
   "outputs": [],
   "source": [
    "batch_size = 128\n",
    "train_loader = DataLoader(train_ds , batch_size , shuffle=True)\n",
    "val_loader = DataLoader(val_ds , batch_size)"
   ]
  },
  {
   "cell_type": "code",
   "execution_count": 30,
   "id": "f92be513",
   "metadata": {},
   "outputs": [],
   "source": [
    "!pip install jovian --upgrade --quiet\n",
    "import jovian"
   ]
  },
  {
   "cell_type": "code",
   "execution_count": 31,
   "id": "ccebbb9b",
   "metadata": {},
   "outputs": [
    {
     "data": {
      "application/javascript": [
       "window.require && require([\"base/js/namespace\"],function(Jupyter){Jupyter.notebook.save_checkpoint()})"
      ],
      "text/plain": [
       "<IPython.core.display.Javascript object>"
      ]
     },
     "metadata": {},
     "output_type": "display_data"
    },
    {
     "name": "stdout",
     "output_type": "stream",
     "text": [
      "[jovian] Updating notebook \"yashrsakaria1/03-logistic-regression\" on https://jovian.ai/\u001b[0m\n",
      "[jovian] Committed successfully! https://jovian.ai/yashrsakaria1/03-logistic-regression\u001b[0m\n"
     ]
    },
    {
     "data": {
      "text/plain": [
       "'https://jovian.ai/yashrsakaria1/03-logistic-regression'"
      ]
     },
     "execution_count": 31,
     "metadata": {},
     "output_type": "execute_result"
    }
   ],
   "source": [
    "jovian.commit(project='03-logistic-regression')"
   ]
  },
  {
   "cell_type": "code",
   "execution_count": 32,
   "id": "3e4e1ea3",
   "metadata": {},
   "outputs": [],
   "source": [
    "import torch.nn as nn"
   ]
  },
  {
   "cell_type": "code",
   "execution_count": 33,
   "id": "9fdfd408",
   "metadata": {},
   "outputs": [],
   "source": [
    "input_size = 28*28\n",
    "num_classes = 10"
   ]
  },
  {
   "cell_type": "code",
   "execution_count": 34,
   "id": "c1b0f04c",
   "metadata": {},
   "outputs": [],
   "source": [
    "model = nn.Linear(input_size , num_classes)"
   ]
  },
  {
   "cell_type": "code",
   "execution_count": 35,
   "id": "3eb4aa74",
   "metadata": {},
   "outputs": [
    {
     "name": "stdout",
     "output_type": "stream",
     "text": [
      "torch.Size([10, 784])\n"
     ]
    }
   ],
   "source": [
    "print(model.weight.shape)"
   ]
  },
  {
   "cell_type": "code",
   "execution_count": 36,
   "id": "e4acfa79",
   "metadata": {},
   "outputs": [
    {
     "data": {
      "text/plain": [
       "Parameter containing:\n",
       "tensor([[-0.0242,  0.0221, -0.0273,  ..., -0.0312,  0.0328,  0.0336],\n",
       "        [ 0.0199, -0.0105, -0.0004,  ..., -0.0044,  0.0051,  0.0356],\n",
       "        [-0.0015,  0.0063, -0.0155,  ..., -0.0235,  0.0124,  0.0253],\n",
       "        ...,\n",
       "        [-0.0242,  0.0065,  0.0063,  ...,  0.0326,  0.0115,  0.0300],\n",
       "        [ 0.0243,  0.0251,  0.0308,  ...,  0.0032,  0.0258, -0.0036],\n",
       "        [-0.0120,  0.0186, -0.0287,  ..., -0.0077,  0.0097,  0.0315]],\n",
       "       requires_grad=True)"
      ]
     },
     "execution_count": 36,
     "metadata": {},
     "output_type": "execute_result"
    }
   ],
   "source": [
    "model.weight"
   ]
  },
  {
   "cell_type": "code",
   "execution_count": 37,
   "id": "c74c7870",
   "metadata": {},
   "outputs": [
    {
     "name": "stdout",
     "output_type": "stream",
     "text": [
      "torch.Size([10])\n"
     ]
    },
    {
     "data": {
      "text/plain": [
       "Parameter containing:\n",
       "tensor([ 0.0108,  0.0124, -0.0336,  0.0041, -0.0237,  0.0025,  0.0278,  0.0031,\n",
       "        -0.0304,  0.0031], requires_grad=True)"
      ]
     },
     "execution_count": 37,
     "metadata": {},
     "output_type": "execute_result"
    }
   ],
   "source": [
    "print(model.bias.shape)\n",
    "model.bias"
   ]
  },
  {
   "cell_type": "code",
   "execution_count": 39,
   "id": "070cecc4",
   "metadata": {},
   "outputs": [
    {
     "name": "stdout",
     "output_type": "stream",
     "text": [
      "tensor([1, 7, 0, 4, 6, 1, 4, 4, 2, 5, 4, 9, 3, 6, 6, 0, 2, 6, 1, 6, 4, 2, 6, 7,\n",
      "        6, 0, 7, 2, 6, 3, 7, 4, 6, 2, 0, 1, 1, 2, 4, 0, 7, 7, 6, 6, 6, 4, 5, 7,\n",
      "        1, 1, 4, 5, 2, 1, 5, 7, 9, 7, 2, 9, 3, 7, 7, 8, 3, 0, 8, 1, 7, 9, 7, 7,\n",
      "        8, 0, 8, 8, 1, 0, 6, 3, 0, 4, 7, 6, 1, 0, 2, 6, 4, 6, 7, 6, 5, 6, 2, 1,\n",
      "        5, 5, 6, 8, 9, 0, 9, 0, 3, 1, 3, 5, 6, 0, 4, 7, 1, 2, 7, 4, 3, 5, 2, 2,\n",
      "        9, 1, 2, 4, 5, 0, 3, 5])\n",
      "torch.Size([128, 1, 28, 28])\n"
     ]
    },
    {
     "ename": "RuntimeError",
     "evalue": "mat1 and mat2 shapes cannot be multiplied (3584x28 and 784x10)",
     "output_type": "error",
     "traceback": [
      "\u001b[1;31m---------------------------------------------------------------------------\u001b[0m",
      "\u001b[1;31mRuntimeError\u001b[0m                              Traceback (most recent call last)",
      "\u001b[1;32m~\\AppData\\Local\\Temp/ipykernel_8420/3910547153.py\u001b[0m in \u001b[0;36m<module>\u001b[1;34m\u001b[0m\n\u001b[0;32m      2\u001b[0m     \u001b[0mprint\u001b[0m\u001b[1;33m(\u001b[0m\u001b[0mlabels\u001b[0m\u001b[1;33m)\u001b[0m\u001b[1;33m\u001b[0m\u001b[1;33m\u001b[0m\u001b[0m\n\u001b[0;32m      3\u001b[0m     \u001b[0mprint\u001b[0m\u001b[1;33m(\u001b[0m\u001b[0mimages\u001b[0m\u001b[1;33m.\u001b[0m\u001b[0mshape\u001b[0m\u001b[1;33m)\u001b[0m\u001b[1;33m\u001b[0m\u001b[1;33m\u001b[0m\u001b[0m\n\u001b[1;32m----> 4\u001b[1;33m     \u001b[0moutputs\u001b[0m \u001b[1;33m=\u001b[0m \u001b[0mmodel\u001b[0m\u001b[1;33m(\u001b[0m\u001b[0mimages\u001b[0m\u001b[1;33m)\u001b[0m\u001b[1;33m\u001b[0m\u001b[1;33m\u001b[0m\u001b[0m\n\u001b[0m\u001b[0;32m      5\u001b[0m     \u001b[0mprint\u001b[0m\u001b[1;33m(\u001b[0m\u001b[0moutputs\u001b[0m\u001b[1;33m)\u001b[0m\u001b[1;33m\u001b[0m\u001b[1;33m\u001b[0m\u001b[0m\n\u001b[0;32m      6\u001b[0m     \u001b[1;32mbreak\u001b[0m\u001b[1;33m\u001b[0m\u001b[1;33m\u001b[0m\u001b[0m\n",
      "\u001b[1;32m~\\AppData\\Local\\Programs\\Python\\Python39\\lib\\site-packages\\torch\\nn\\modules\\module.py\u001b[0m in \u001b[0;36m_call_impl\u001b[1;34m(self, *input, **kwargs)\u001b[0m\n\u001b[0;32m   1049\u001b[0m         if not (self._backward_hooks or self._forward_hooks or self._forward_pre_hooks or _global_backward_hooks\n\u001b[0;32m   1050\u001b[0m                 or _global_forward_hooks or _global_forward_pre_hooks):\n\u001b[1;32m-> 1051\u001b[1;33m             \u001b[1;32mreturn\u001b[0m \u001b[0mforward_call\u001b[0m\u001b[1;33m(\u001b[0m\u001b[1;33m*\u001b[0m\u001b[0minput\u001b[0m\u001b[1;33m,\u001b[0m \u001b[1;33m**\u001b[0m\u001b[0mkwargs\u001b[0m\u001b[1;33m)\u001b[0m\u001b[1;33m\u001b[0m\u001b[1;33m\u001b[0m\u001b[0m\n\u001b[0m\u001b[0;32m   1052\u001b[0m         \u001b[1;31m# Do not call functions when jit is used\u001b[0m\u001b[1;33m\u001b[0m\u001b[1;33m\u001b[0m\u001b[0m\n\u001b[0;32m   1053\u001b[0m         \u001b[0mfull_backward_hooks\u001b[0m\u001b[1;33m,\u001b[0m \u001b[0mnon_full_backward_hooks\u001b[0m \u001b[1;33m=\u001b[0m \u001b[1;33m[\u001b[0m\u001b[1;33m]\u001b[0m\u001b[1;33m,\u001b[0m \u001b[1;33m[\u001b[0m\u001b[1;33m]\u001b[0m\u001b[1;33m\u001b[0m\u001b[1;33m\u001b[0m\u001b[0m\n",
      "\u001b[1;32m~\\AppData\\Local\\Programs\\Python\\Python39\\lib\\site-packages\\torch\\nn\\modules\\linear.py\u001b[0m in \u001b[0;36mforward\u001b[1;34m(self, input)\u001b[0m\n\u001b[0;32m     94\u001b[0m \u001b[1;33m\u001b[0m\u001b[0m\n\u001b[0;32m     95\u001b[0m     \u001b[1;32mdef\u001b[0m \u001b[0mforward\u001b[0m\u001b[1;33m(\u001b[0m\u001b[0mself\u001b[0m\u001b[1;33m,\u001b[0m \u001b[0minput\u001b[0m\u001b[1;33m:\u001b[0m \u001b[0mTensor\u001b[0m\u001b[1;33m)\u001b[0m \u001b[1;33m->\u001b[0m \u001b[0mTensor\u001b[0m\u001b[1;33m:\u001b[0m\u001b[1;33m\u001b[0m\u001b[1;33m\u001b[0m\u001b[0m\n\u001b[1;32m---> 96\u001b[1;33m         \u001b[1;32mreturn\u001b[0m \u001b[0mF\u001b[0m\u001b[1;33m.\u001b[0m\u001b[0mlinear\u001b[0m\u001b[1;33m(\u001b[0m\u001b[0minput\u001b[0m\u001b[1;33m,\u001b[0m \u001b[0mself\u001b[0m\u001b[1;33m.\u001b[0m\u001b[0mweight\u001b[0m\u001b[1;33m,\u001b[0m \u001b[0mself\u001b[0m\u001b[1;33m.\u001b[0m\u001b[0mbias\u001b[0m\u001b[1;33m)\u001b[0m\u001b[1;33m\u001b[0m\u001b[1;33m\u001b[0m\u001b[0m\n\u001b[0m\u001b[0;32m     97\u001b[0m \u001b[1;33m\u001b[0m\u001b[0m\n\u001b[0;32m     98\u001b[0m     \u001b[1;32mdef\u001b[0m \u001b[0mextra_repr\u001b[0m\u001b[1;33m(\u001b[0m\u001b[0mself\u001b[0m\u001b[1;33m)\u001b[0m \u001b[1;33m->\u001b[0m \u001b[0mstr\u001b[0m\u001b[1;33m:\u001b[0m\u001b[1;33m\u001b[0m\u001b[1;33m\u001b[0m\u001b[0m\n",
      "\u001b[1;32m~\\AppData\\Local\\Programs\\Python\\Python39\\lib\\site-packages\\torch\\nn\\functional.py\u001b[0m in \u001b[0;36mlinear\u001b[1;34m(input, weight, bias)\u001b[0m\n\u001b[0;32m   1845\u001b[0m     \u001b[1;32mif\u001b[0m \u001b[0mhas_torch_function_variadic\u001b[0m\u001b[1;33m(\u001b[0m\u001b[0minput\u001b[0m\u001b[1;33m,\u001b[0m \u001b[0mweight\u001b[0m\u001b[1;33m)\u001b[0m\u001b[1;33m:\u001b[0m\u001b[1;33m\u001b[0m\u001b[1;33m\u001b[0m\u001b[0m\n\u001b[0;32m   1846\u001b[0m         \u001b[1;32mreturn\u001b[0m \u001b[0mhandle_torch_function\u001b[0m\u001b[1;33m(\u001b[0m\u001b[0mlinear\u001b[0m\u001b[1;33m,\u001b[0m \u001b[1;33m(\u001b[0m\u001b[0minput\u001b[0m\u001b[1;33m,\u001b[0m \u001b[0mweight\u001b[0m\u001b[1;33m)\u001b[0m\u001b[1;33m,\u001b[0m \u001b[0minput\u001b[0m\u001b[1;33m,\u001b[0m \u001b[0mweight\u001b[0m\u001b[1;33m,\u001b[0m \u001b[0mbias\u001b[0m\u001b[1;33m=\u001b[0m\u001b[0mbias\u001b[0m\u001b[1;33m)\u001b[0m\u001b[1;33m\u001b[0m\u001b[1;33m\u001b[0m\u001b[0m\n\u001b[1;32m-> 1847\u001b[1;33m     \u001b[1;32mreturn\u001b[0m \u001b[0mtorch\u001b[0m\u001b[1;33m.\u001b[0m\u001b[0m_C\u001b[0m\u001b[1;33m.\u001b[0m\u001b[0m_nn\u001b[0m\u001b[1;33m.\u001b[0m\u001b[0mlinear\u001b[0m\u001b[1;33m(\u001b[0m\u001b[0minput\u001b[0m\u001b[1;33m,\u001b[0m \u001b[0mweight\u001b[0m\u001b[1;33m,\u001b[0m \u001b[0mbias\u001b[0m\u001b[1;33m)\u001b[0m\u001b[1;33m\u001b[0m\u001b[1;33m\u001b[0m\u001b[0m\n\u001b[0m\u001b[0;32m   1848\u001b[0m \u001b[1;33m\u001b[0m\u001b[0m\n\u001b[0;32m   1849\u001b[0m \u001b[1;33m\u001b[0m\u001b[0m\n",
      "\u001b[1;31mRuntimeError\u001b[0m: mat1 and mat2 shapes cannot be multiplied (3584x28 and 784x10)"
     ]
    }
   ],
   "source": [
    "for images , labels in train_loader:\n",
    "    print(labels)\n",
    "    print(images.shape)\n",
    "    outputs = model(images)\n",
    "    print(outputs)\n",
    "    break"
   ]
  },
  {
   "cell_type": "code",
   "execution_count": 48,
   "id": "d7773dac",
   "metadata": {},
   "outputs": [
    {
     "data": {
      "text/plain": [
       "torch.Size([128, 1, 28, 28])"
      ]
     },
     "execution_count": 48,
     "metadata": {},
     "output_type": "execute_result"
    }
   ],
   "source": [
    "images.shape"
   ]
  },
  {
   "cell_type": "code",
   "execution_count": 49,
   "id": "8417175c",
   "metadata": {},
   "outputs": [
    {
     "data": {
      "text/plain": [
       "torch.Size([128, 784])"
      ]
     },
     "execution_count": 49,
     "metadata": {},
     "output_type": "execute_result"
    }
   ],
   "source": [
    "images.reshape(128,784).shape"
   ]
  },
  {
   "cell_type": "code",
   "execution_count": 50,
   "id": "08a704a5",
   "metadata": {},
   "outputs": [],
   "source": [
    "class Person:\n",
    "    \n",
    "    def __init__(self , name , age):\n",
    "        self.name = name\n",
    "        self.age = age\n",
    "        \n",
    "    def say_hello(self):\n",
    "        print(\"Hello my name is \" + self.name + \"!\")"
   ]
  },
  {
   "cell_type": "code",
   "execution_count": 51,
   "id": "1c4c1896",
   "metadata": {},
   "outputs": [],
   "source": [
    "bob = Person(\"Bob\" , 22)"
   ]
  },
  {
   "cell_type": "code",
   "execution_count": 52,
   "id": "397b9a4b",
   "metadata": {},
   "outputs": [
    {
     "data": {
      "text/plain": [
       "('Bob', 22)"
      ]
     },
     "execution_count": 52,
     "metadata": {},
     "output_type": "execute_result"
    }
   ],
   "source": [
    "bob.name , bob.age"
   ]
  },
  {
   "cell_type": "code",
   "execution_count": 53,
   "id": "dacfdd50",
   "metadata": {},
   "outputs": [
    {
     "name": "stdout",
     "output_type": "stream",
     "text": [
      "Hello my name is Bob!\n"
     ]
    }
   ],
   "source": [
    "bob.say_hello()"
   ]
  },
  {
   "cell_type": "code",
   "execution_count": 54,
   "id": "338d655a",
   "metadata": {},
   "outputs": [],
   "source": [
    "class MNISTModel(nn.Module):\n",
    "    \n",
    "    def __init__(self):\n",
    "        super().__init__()\n",
    "        self.linear = nn.Linear(input_size , num_classes)\n",
    "        \n",
    "    def forward(self,xb):\n",
    "        xb = xb.reshape(-1 , 784)\n",
    "        out = self.linear(xb)\n",
    "        return out"
   ]
  },
  {
   "cell_type": "code",
   "execution_count": 58,
   "id": "cdd6564f",
   "metadata": {},
   "outputs": [],
   "source": [
    "model = MNISTModel()"
   ]
  },
  {
   "cell_type": "code",
   "execution_count": 59,
   "id": "a290052b",
   "metadata": {},
   "outputs": [
    {
     "data": {
      "text/plain": [
       "torch.Size([10, 784])"
      ]
     },
     "execution_count": 59,
     "metadata": {},
     "output_type": "execute_result"
    }
   ],
   "source": [
    "model.linear.weight.shape"
   ]
  },
  {
   "cell_type": "code",
   "execution_count": 60,
   "id": "896516f3",
   "metadata": {},
   "outputs": [
    {
     "data": {
      "text/plain": [
       "Linear(in_features=784, out_features=10, bias=True)"
      ]
     },
     "execution_count": 60,
     "metadata": {},
     "output_type": "execute_result"
    }
   ],
   "source": [
    "model.linear"
   ]
  },
  {
   "cell_type": "code",
   "execution_count": 61,
   "id": "6151671a",
   "metadata": {},
   "outputs": [
    {
     "data": {
      "text/plain": [
       "torch.Size([10])"
      ]
     },
     "execution_count": 61,
     "metadata": {},
     "output_type": "execute_result"
    }
   ],
   "source": [
    "model.linear.bias.shape"
   ]
  },
  {
   "cell_type": "code",
   "execution_count": 62,
   "id": "d314d022",
   "metadata": {},
   "outputs": [
    {
     "data": {
      "text/plain": [
       "[Parameter containing:\n",
       " tensor([[-0.0323, -0.0144,  0.0054,  ...,  0.0053, -0.0062,  0.0310],\n",
       "         [ 0.0211,  0.0095, -0.0231,  ..., -0.0236,  0.0106, -0.0140],\n",
       "         [ 0.0302, -0.0304, -0.0242,  ...,  0.0220, -0.0136,  0.0236],\n",
       "         ...,\n",
       "         [ 0.0295, -0.0240,  0.0236,  ..., -0.0136,  0.0327, -0.0150],\n",
       "         [ 0.0037,  0.0250, -0.0144,  ...,  0.0079,  0.0078,  0.0264],\n",
       "         [ 0.0146, -0.0060, -0.0353,  ...,  0.0081,  0.0113, -0.0233]],\n",
       "        requires_grad=True),\n",
       " Parameter containing:\n",
       " tensor([-0.0060,  0.0176,  0.0086,  0.0256, -0.0256, -0.0107, -0.0060,  0.0346,\n",
       "          0.0032, -0.0068], requires_grad=True)]"
      ]
     },
     "execution_count": 62,
     "metadata": {},
     "output_type": "execute_result"
    }
   ],
   "source": [
    "list(model.parameters())"
   ]
  },
  {
   "cell_type": "code",
   "execution_count": 89,
   "id": "390d0b5e",
   "metadata": {},
   "outputs": [
    {
     "name": "stdout",
     "output_type": "stream",
     "text": [
      "torch.Size([128, 1, 28, 28])\n",
      "outputs.shape :  torch.Size([128, 10])\n",
      "Sample outputs : \n",
      " tensor([[ 0.0646,  0.0814,  0.2256,  0.0309, -0.0372,  0.0658, -0.3453,  0.1437,\n",
      "          0.4324, -0.2677],\n",
      "        [-0.0551,  0.3069,  0.1724, -0.2084,  0.3944, -0.1056,  0.1200, -0.1037,\n",
      "          0.4521,  0.0819]])\n"
     ]
    }
   ],
   "source": [
    "for images, labels in train_loader:\n",
    "    print(images.shape)\n",
    "    outputs = model(images)\n",
    "    break\n",
    "    \n",
    "print('outputs.shape : ' , outputs.shape)\n",
    "print('Sample outputs : \\n' , outputs[:2].data)"
   ]
  },
  {
   "cell_type": "code",
   "execution_count": 90,
   "id": "82317d54",
   "metadata": {},
   "outputs": [],
   "source": [
    "import torch.nn.functional as F"
   ]
  },
  {
   "cell_type": "code",
   "execution_count": 91,
   "id": "77326c57",
   "metadata": {},
   "outputs": [
    {
     "name": "stdout",
     "output_type": "stream",
     "text": [
      "torch.Size([128, 10])\n",
      "tensor([[0.0849, 0.1076, 0.0961, 0.0899, 0.1014, 0.0915, 0.0932, 0.0966, 0.1233,\n",
      "         0.1155],\n",
      "        [0.0966, 0.1128, 0.0941, 0.1007, 0.0860, 0.1052, 0.1043, 0.0922, 0.1236,\n",
      "         0.0846]])\n"
     ]
    },
    {
     "data": {
      "text/plain": [
       "1.0"
      ]
     },
     "execution_count": 91,
     "metadata": {},
     "output_type": "execute_result"
    }
   ],
   "source": [
    "probs = F.softmax(outpus , dim=1)\n",
    "print(probs.shape)\n",
    "print(probs[:2].data)\n",
    "torch.sum(probs[0]).item()"
   ]
  },
  {
   "cell_type": "code",
   "execution_count": 93,
   "id": "7018b049",
   "metadata": {
    "scrolled": false
   },
   "outputs": [
    {
     "name": "stdout",
     "output_type": "stream",
     "text": [
      "tensor([4, 3, 5, 9, 3, 3, 9, 9, 7, 2, 7, 6, 6, 5, 9, 8, 9, 2, 1, 4, 7, 0, 5, 6,\n",
      "        8, 4, 0, 0, 0, 7, 1, 1, 1, 9, 0, 0, 3, 4, 0, 5, 7, 4, 9, 4, 2, 1, 1, 1,\n",
      "        9, 6, 5, 2, 9, 4, 9, 6, 1, 0, 6, 4, 5, 5, 9, 1, 9, 8, 8, 1, 9, 9, 0, 6,\n",
      "        0, 3, 3, 5, 4, 0, 7, 0, 7, 4, 1, 3, 0, 2, 6, 1, 9, 8, 1, 8, 4, 3, 4, 6,\n",
      "        0, 1, 7, 4, 8, 4, 9, 6, 5, 8, 6, 0, 7, 6, 4, 5, 7, 6, 3, 1, 7, 9, 2, 5,\n",
      "        1, 6, 3, 0, 2, 5, 5, 5])\n",
      "tensor([8, 8, 4, 8, 8, 1, 8, 9, 8, 9, 8, 8, 8, 8, 4, 2, 8, 4, 8, 4, 4, 1, 4, 8,\n",
      "        3, 2, 8, 2, 4, 8, 4, 8, 8, 8, 0, 1, 1, 8, 8, 2, 8, 8, 8, 4, 0, 1, 8, 4,\n",
      "        8, 1, 8, 4, 8, 1, 1, 8, 8, 8, 8, 8, 9, 8, 4, 8, 2, 2, 4, 6, 8, 8, 1, 5,\n",
      "        8, 2, 8, 1, 9, 8, 8, 1, 8, 8, 8, 5, 8, 2, 8, 8, 8, 8, 8, 4, 1, 8, 9, 8,\n",
      "        4, 8, 8, 1, 3, 8, 8, 2, 8, 8, 9, 8, 8, 2, 0, 5, 8, 6, 4, 1, 9, 8, 8, 8,\n",
      "        8, 1, 6, 1, 8, 1, 8, 8])\n",
      "tensor([0.1233, 0.1236, 0.1617, 0.1627, 0.1573, 0.1201, 0.1371, 0.1116, 0.1559,\n",
      "        0.1319, 0.1495, 0.1286, 0.1323, 0.1496, 0.1383, 0.1337, 0.1494, 0.1274,\n",
      "        0.1258, 0.1171, 0.1240, 0.1511, 0.1270, 0.1437, 0.1217, 0.1158, 0.1383,\n",
      "        0.1408, 0.1278, 0.1392, 0.1245, 0.1417, 0.1175, 0.1841, 0.1232, 0.1185,\n",
      "        0.1220, 0.1217, 0.1385, 0.1368, 0.1364, 0.1436, 0.1311, 0.1242, 0.1174,\n",
      "        0.1335, 0.1375, 0.1277, 0.1230, 0.1176, 0.1810, 0.1180, 0.1435, 0.1276,\n",
      "        0.1365, 0.1345, 0.1141, 0.1274, 0.1228, 0.1256, 0.1267, 0.1503, 0.1209,\n",
      "        0.1393, 0.1199, 0.1266, 0.1304, 0.1120, 0.1443, 0.1148, 0.1407, 0.1329,\n",
      "        0.1334, 0.1513, 0.1246, 0.1392, 0.1163, 0.1412, 0.1474, 0.1241, 0.1284,\n",
      "        0.1428, 0.1231, 0.1224, 0.1300, 0.1261, 0.1306, 0.1363, 0.1596, 0.1341,\n",
      "        0.1266, 0.1189, 0.1186, 0.1221, 0.1277, 0.1180, 0.1223, 0.1281, 0.1314,\n",
      "        0.1286, 0.1266, 0.1314, 0.1658, 0.1204, 0.1334, 0.1181, 0.1346, 0.1195,\n",
      "        0.1475, 0.1244, 0.1262, 0.1315, 0.1260, 0.1216, 0.1262, 0.1207, 0.1290,\n",
      "        0.1374, 0.1472, 0.1452, 0.1360, 0.1152, 0.1164, 0.1259, 0.1302, 0.1375,\n",
      "        0.1230, 0.1381], grad_fn=<MaxBackward0>)\n"
     ]
    }
   ],
   "source": [
    "max_probs , preds = torch.max(probs , dim=1)\n",
    "print(labels)\n",
    "print(preds)\n",
    "print(max_probs)"
   ]
  },
  {
   "cell_type": "code",
   "execution_count": 84,
   "id": "0d33a50f",
   "metadata": {},
   "outputs": [
    {
     "data": {
      "text/plain": [
       "tensor([[-0.1355,  0.1014, -0.0109,  ..., -0.0060,  0.2379,  0.1727],\n",
       "        [-0.0037,  0.1510, -0.0307,  ..., -0.0507,  0.2422, -0.1369],\n",
       "        [-0.2956,  0.5088,  0.1676,  ...,  0.0120,  0.1593, -0.2534],\n",
       "        ...,\n",
       "        [-0.0218,  0.3596,  0.1542,  ..., -0.0456,  0.0731, -0.1206],\n",
       "        [ 0.0097,  0.0983,  0.2594,  ...,  0.0137,  0.2658,  0.0419],\n",
       "        [-0.1762,  0.1883, -0.1028,  ...,  0.1003,  0.3444,  0.0072]],\n",
       "       grad_fn=<AddmmBackward>)"
      ]
     },
     "execution_count": 84,
     "metadata": {},
     "output_type": "execute_result"
    }
   ],
   "source": [
    "outputs"
   ]
  },
  {
   "cell_type": "code",
   "execution_count": 85,
   "id": "984c771c",
   "metadata": {
    "scrolled": true
   },
   "outputs": [
    {
     "name": "stdout",
     "output_type": "stream",
     "text": [
      "tensor([False, False, False, False, False, False, False, False, False, False,\n",
      "        False, False, False, False, False, False, False, False, False, False,\n",
      "        False, False, False, False, False, False, False, False, False, False,\n",
      "        False, False, False, False, False, False, False, False, False, False,\n",
      "        False, False, False, False, False, False, False, False, False, False,\n",
      "        False, False, False, False, False, False, False, False, False, False,\n",
      "        False, False, False, False, False, False, False, False, False, False,\n",
      "        False,  True, False, False, False, False, False, False, False, False,\n",
      "        False, False, False,  True, False, False, False, False, False, False,\n",
      "        False, False, False, False, False, False, False, False, False, False,\n",
      "        False, False, False, False, False, False, False, False, False, False,\n",
      "        False,  True, False, False, False, False, False, False, False, False,\n",
      "        False, False, False, False, False, False, False, False])\n"
     ]
    }
   ],
   "source": [
    "print(preds == label)"
   ]
  },
  {
   "cell_type": "code",
   "execution_count": 147,
   "id": "317d86b2",
   "metadata": {},
   "outputs": [
    {
     "name": "stdout",
     "output_type": "stream",
     "text": [
      "3\n"
     ]
    }
   ],
   "source": [
    "print(torch.sum(preds == label).item())"
   ]
  },
  {
   "cell_type": "code",
   "execution_count": 182,
   "id": "59496d24",
   "metadata": {},
   "outputs": [],
   "source": [
    "def accuracy(outputs,labels):\n",
    "    _,preds = torch.max(outputs,dim=1)\n",
    "    return torch.tensor(torch.sum(preds == labels).item() / len(preds))"
   ]
  },
  {
   "cell_type": "code",
   "execution_count": 183,
   "id": "dbab6bdf",
   "metadata": {},
   "outputs": [
    {
     "data": {
      "text/plain": [
       "tensor(0.1172)"
      ]
     },
     "execution_count": 183,
     "metadata": {},
     "output_type": "execute_result"
    }
   ],
   "source": [
    "accuracy(outputs , labels)"
   ]
  },
  {
   "cell_type": "code",
   "execution_count": 163,
   "id": "d996e7ac",
   "metadata": {},
   "outputs": [
    {
     "data": {
      "text/plain": [
       "tensor([[0.0849, 0.1076, 0.0961,  ..., 0.0966, 0.1233, 0.1155],\n",
       "        [0.0966, 0.1128, 0.0941,  ..., 0.0922, 0.1236, 0.0846],\n",
       "        [0.0673, 0.1504, 0.1069,  ..., 0.0915, 0.1060, 0.0702],\n",
       "        ...,\n",
       "        [0.0939, 0.1375, 0.1120,  ..., 0.0917, 0.1032, 0.0851],\n",
       "        [0.0952, 0.1040, 0.1222,  ..., 0.0956, 0.1230, 0.0983],\n",
       "        [0.0821, 0.1182, 0.0883,  ..., 0.1082, 0.1381, 0.0986]],\n",
       "       grad_fn=<SoftmaxBackward>)"
      ]
     },
     "execution_count": 163,
     "metadata": {},
     "output_type": "execute_result"
    }
   ],
   "source": [
    "probs"
   ]
  },
  {
   "cell_type": "code",
   "execution_count": 175,
   "id": "a50dbdea",
   "metadata": {},
   "outputs": [],
   "source": [
    "loss_fn = F.cross_entropy"
   ]
  },
  {
   "cell_type": "code",
   "execution_count": 165,
   "id": "a5d1c2eb",
   "metadata": {},
   "outputs": [
    {
     "data": {
      "text/plain": [
       "tensor([[ 0.0646,  0.0814,  0.2256,  ...,  0.1437,  0.4324, -0.2677],\n",
       "        [-0.0551,  0.3069,  0.1724,  ..., -0.1037,  0.4521,  0.0819],\n",
       "        [ 0.1136,  0.1910,  0.3185,  ..., -0.0534,  0.0737,  0.2580],\n",
       "        ...,\n",
       "        [ 0.0580, -0.0015,  0.0345,  ..., -0.2470,  0.2399,  0.1428],\n",
       "        [ 0.1755,  0.2954,  0.1842,  ..., -0.0465,  0.1720,  0.1422],\n",
       "        [ 0.1725,  0.2725,  0.0735,  ..., -0.0233,  0.1417, -0.2983]],\n",
       "       grad_fn=<AddmmBackward>)"
      ]
     },
     "execution_count": 165,
     "metadata": {},
     "output_type": "execute_result"
    }
   ],
   "source": [
    "outputs"
   ]
  },
  {
   "cell_type": "code",
   "execution_count": 153,
   "id": "1d86b562",
   "metadata": {},
   "outputs": [
    {
     "data": {
      "text/plain": [
       "tensor([[0.0849, 0.1076, 0.0961,  ..., 0.0966, 0.1233, 0.1155],\n",
       "        [0.0966, 0.1128, 0.0941,  ..., 0.0922, 0.1236, 0.0846],\n",
       "        [0.0673, 0.1504, 0.1069,  ..., 0.0915, 0.1060, 0.0702],\n",
       "        ...,\n",
       "        [0.0939, 0.1375, 0.1120,  ..., 0.0917, 0.1032, 0.0851],\n",
       "        [0.0952, 0.1040, 0.1222,  ..., 0.0956, 0.1230, 0.0983],\n",
       "        [0.0821, 0.1182, 0.0883,  ..., 0.1082, 0.1381, 0.0986]],\n",
       "       grad_fn=<SoftmaxBackward>)"
      ]
     },
     "execution_count": 153,
     "metadata": {},
     "output_type": "execute_result"
    }
   ],
   "source": [
    "probs"
   ]
  },
  {
   "cell_type": "code",
   "execution_count": 154,
   "id": "bc32fc32",
   "metadata": {},
   "outputs": [
    {
     "data": {
      "text/plain": [
       "tensor([8, 8, 4, 8, 8, 1, 8, 9, 8, 9, 8, 8, 8, 8, 4, 2, 8, 4, 8, 4, 4, 1, 4, 8,\n",
       "        3, 2, 8, 2, 4, 8, 4, 8, 8, 8, 0, 1, 1, 8, 8, 2, 8, 8, 8, 4, 0, 1, 8, 4,\n",
       "        8, 1, 8, 4, 8, 1, 1, 8, 8, 8, 8, 8, 9, 8, 4, 8, 2, 2, 4, 6, 8, 8, 1, 5,\n",
       "        8, 2, 8, 1, 9, 8, 8, 1, 8, 8, 8, 5, 8, 2, 8, 8, 8, 8, 8, 4, 1, 8, 9, 8,\n",
       "        4, 8, 8, 1, 3, 8, 8, 2, 8, 8, 9, 8, 8, 2, 0, 5, 8, 6, 4, 1, 9, 8, 8, 8,\n",
       "        8, 1, 6, 1, 8, 1, 8, 8])"
      ]
     },
     "execution_count": 154,
     "metadata": {},
     "output_type": "execute_result"
    }
   ],
   "source": [
    "preds"
   ]
  },
  {
   "cell_type": "code",
   "execution_count": 155,
   "id": "0f00e567",
   "metadata": {},
   "outputs": [
    {
     "data": {
      "text/plain": [
       "tensor([0.1233, 0.1236, 0.1617, 0.1627, 0.1573, 0.1201, 0.1371, 0.1116, 0.1559,\n",
       "        0.1319, 0.1495, 0.1286, 0.1323, 0.1496, 0.1383, 0.1337, 0.1494, 0.1274,\n",
       "        0.1258, 0.1171, 0.1240, 0.1511, 0.1270, 0.1437, 0.1217, 0.1158, 0.1383,\n",
       "        0.1408, 0.1278, 0.1392, 0.1245, 0.1417, 0.1175, 0.1841, 0.1232, 0.1185,\n",
       "        0.1220, 0.1217, 0.1385, 0.1368, 0.1364, 0.1436, 0.1311, 0.1242, 0.1174,\n",
       "        0.1335, 0.1375, 0.1277, 0.1230, 0.1176, 0.1810, 0.1180, 0.1435, 0.1276,\n",
       "        0.1365, 0.1345, 0.1141, 0.1274, 0.1228, 0.1256, 0.1267, 0.1503, 0.1209,\n",
       "        0.1393, 0.1199, 0.1266, 0.1304, 0.1120, 0.1443, 0.1148, 0.1407, 0.1329,\n",
       "        0.1334, 0.1513, 0.1246, 0.1392, 0.1163, 0.1412, 0.1474, 0.1241, 0.1284,\n",
       "        0.1428, 0.1231, 0.1224, 0.1300, 0.1261, 0.1306, 0.1363, 0.1596, 0.1341,\n",
       "        0.1266, 0.1189, 0.1186, 0.1221, 0.1277, 0.1180, 0.1223, 0.1281, 0.1314,\n",
       "        0.1286, 0.1266, 0.1314, 0.1658, 0.1204, 0.1334, 0.1181, 0.1346, 0.1195,\n",
       "        0.1475, 0.1244, 0.1262, 0.1315, 0.1260, 0.1216, 0.1262, 0.1207, 0.1290,\n",
       "        0.1374, 0.1472, 0.1452, 0.1360, 0.1152, 0.1164, 0.1259, 0.1302, 0.1375,\n",
       "        0.1230, 0.1381], grad_fn=<MaxBackward0>)"
      ]
     },
     "execution_count": 155,
     "metadata": {},
     "output_type": "execute_result"
    }
   ],
   "source": [
    "max_probs"
   ]
  },
  {
   "cell_type": "code",
   "execution_count": 184,
   "id": "1353c8e8",
   "metadata": {},
   "outputs": [
    {
     "name": "stdout",
     "output_type": "stream",
     "text": [
      "tensor(2.3021, grad_fn=<NllLossBackward>)\n"
     ]
    }
   ],
   "source": [
    "loss = loss_fn(outputs , labels)\n",
    "print(loss)"
   ]
  },
  {
   "cell_type": "code",
   "execution_count": 185,
   "id": "3b95efd1",
   "metadata": {},
   "outputs": [],
   "source": [
    "def fit(epochs , lr , model , train_loader , val_loader , opt_fun=torch.optim.SGD):\n",
    "    \n",
    "    optimizer = opt_fun(model.parameters() , lr)\n",
    "    history = []\n",
    "    \n",
    "    for epoch in range(epochs):\n",
    "        \n",
    "        for batch in train_loader:\n",
    "            loss = model.training_step(batch)\n",
    "            loss.backward()\n",
    "            optimizer.step()\n",
    "            optimizer.zero_grad()\n",
    "            \n",
    "        result = evaluate(model , val_loader)\n",
    "        model.epoch_end(epoch,result)\n",
    "        history.append(result)\n",
    "        \n",
    "    return history"
   ]
  },
  {
   "cell_type": "code",
   "execution_count": 186,
   "id": "1bf069d2",
   "metadata": {},
   "outputs": [],
   "source": [
    "def evaluate(model, val_loader):\n",
    "    outputs = [model.validation_step(batch) for batch in val_loader]\n",
    "    return model.validation_epoch_end(outputs)"
   ]
  },
  {
   "cell_type": "code",
   "execution_count": 187,
   "id": "261a0a83",
   "metadata": {},
   "outputs": [],
   "source": [
    "class MnistModel(nn.Module):\n",
    "    def __init__(self):\n",
    "        super().__init__()\n",
    "        self.linear = nn.Linear(input_size, num_classes)\n",
    "        \n",
    "    def forward(self, xb):\n",
    "        xb = xb.reshape(-1, 784)\n",
    "        out = self.linear(xb)\n",
    "        return out\n",
    "    \n",
    "    def training_step(self, batch):\n",
    "        images, labels = batch \n",
    "        out = self(images)                  # Generate predictions\n",
    "        loss = F.cross_entropy(out, labels) # Calculate loss\n",
    "        return loss\n",
    "    \n",
    "    def validation_step(self, batch):\n",
    "        images, labels = batch \n",
    "        out = self(images)                    # Generate predictions\n",
    "        loss = F.cross_entropy(out, labels)   # Calculate loss\n",
    "        acc = accuracy(out, labels)           # Calculate accuracy\n",
    "        return {'val_loss': loss, 'val_acc': acc}\n",
    "        \n",
    "    def validation_epoch_end(self, outputs):\n",
    "        batch_losses = [x['val_loss'] for x in outputs]\n",
    "        epoch_loss = torch.stack(batch_losses).mean()   # Combine losses\n",
    "        batch_accs = [x['val_acc'] for x in outputs]\n",
    "        epoch_acc = torch.stack(batch_accs).mean()      # Combine accuracies\n",
    "        return {'val_loss': epoch_loss.item(), 'val_acc': epoch_acc.item()}\n",
    "    \n",
    "    def epoch_end(self, epoch, result):\n",
    "        print(\"Epoch [{}], val_loss: {:.4f}, val_acc: {:.4f}\".format(epoch, result['val_loss'], result['val_acc']))\n",
    "    \n",
    "model = MnistModel()"
   ]
  },
  {
   "cell_type": "code",
   "execution_count": 188,
   "id": "fc233ecb",
   "metadata": {},
   "outputs": [
    {
     "data": {
      "text/plain": [
       "{'val_loss': 2.322298049926758, 'val_acc': 0.11224287748336792}"
      ]
     },
     "execution_count": 188,
     "metadata": {},
     "output_type": "execute_result"
    }
   ],
   "source": [
    "result0 = evaluate(model, val_loader)\n",
    "result0"
   ]
  },
  {
   "cell_type": "code",
   "execution_count": 189,
   "id": "c80109a3",
   "metadata": {},
   "outputs": [
    {
     "name": "stdout",
     "output_type": "stream",
     "text": [
      "Epoch [0], val_loss: 1.9524, val_acc: 0.6142\n",
      "Epoch [1], val_loss: 1.6812, val_acc: 0.7174\n",
      "Epoch [2], val_loss: 1.4796, val_acc: 0.7488\n",
      "Epoch [3], val_loss: 1.3278, val_acc: 0.7724\n",
      "Epoch [4], val_loss: 1.2114, val_acc: 0.7859\n"
     ]
    }
   ],
   "source": [
    "history1 = fit(5, 0.001, model, train_loader, val_loader)"
   ]
  },
  {
   "cell_type": "code",
   "execution_count": 190,
   "id": "77d236bb",
   "metadata": {},
   "outputs": [
    {
     "name": "stdout",
     "output_type": "stream",
     "text": [
      "Epoch [0], val_loss: 0.7550, val_acc: 0.8359\n",
      "Epoch [1], val_loss: 0.6217, val_acc: 0.8538\n",
      "Epoch [2], val_loss: 0.5549, val_acc: 0.8635\n",
      "Epoch [3], val_loss: 0.5139, val_acc: 0.8691\n",
      "Epoch [4], val_loss: 0.4851, val_acc: 0.8734\n",
      "Epoch [5], val_loss: 0.4640, val_acc: 0.8768\n",
      "Epoch [6], val_loss: 0.4473, val_acc: 0.8800\n",
      "Epoch [7], val_loss: 0.4338, val_acc: 0.8830\n",
      "Epoch [8], val_loss: 0.4226, val_acc: 0.8855\n",
      "Epoch [9], val_loss: 0.4135, val_acc: 0.8860\n"
     ]
    }
   ],
   "source": [
    "history2 = fit(10, 0.01, model, train_loader, val_loader)"
   ]
  },
  {
   "cell_type": "code",
   "execution_count": 191,
   "id": "444341f1",
   "metadata": {},
   "outputs": [
    {
     "name": "stdout",
     "output_type": "stream",
     "text": [
      "Epoch [0], val_loss: 0.4125, val_acc: 0.8870\n",
      "Epoch [1], val_loss: 0.4116, val_acc: 0.8872\n",
      "Epoch [2], val_loss: 0.4107, val_acc: 0.8875\n",
      "Epoch [3], val_loss: 0.4099, val_acc: 0.8876\n",
      "Epoch [4], val_loss: 0.4090, val_acc: 0.8879\n",
      "Epoch [5], val_loss: 0.4082, val_acc: 0.8881\n",
      "Epoch [6], val_loss: 0.4074, val_acc: 0.8887\n",
      "Epoch [7], val_loss: 0.4066, val_acc: 0.8887\n",
      "Epoch [8], val_loss: 0.4059, val_acc: 0.8887\n",
      "Epoch [9], val_loss: 0.4051, val_acc: 0.8886\n",
      "Epoch [10], val_loss: 0.4043, val_acc: 0.8887\n",
      "Epoch [11], val_loss: 0.4036, val_acc: 0.8888\n",
      "Epoch [12], val_loss: 0.4029, val_acc: 0.8888\n",
      "Epoch [13], val_loss: 0.4021, val_acc: 0.8889\n",
      "Epoch [14], val_loss: 0.4014, val_acc: 0.8890\n",
      "Epoch [15], val_loss: 0.4007, val_acc: 0.8889\n",
      "Epoch [16], val_loss: 0.4000, val_acc: 0.8891\n",
      "Epoch [17], val_loss: 0.3993, val_acc: 0.8895\n",
      "Epoch [18], val_loss: 0.3987, val_acc: 0.8897\n",
      "Epoch [19], val_loss: 0.3980, val_acc: 0.8901\n",
      "Epoch [20], val_loss: 0.3973, val_acc: 0.8900\n",
      "Epoch [21], val_loss: 0.3967, val_acc: 0.8903\n",
      "Epoch [22], val_loss: 0.3960, val_acc: 0.8905\n",
      "Epoch [23], val_loss: 0.3954, val_acc: 0.8907\n",
      "Epoch [24], val_loss: 0.3948, val_acc: 0.8909\n",
      "Epoch [25], val_loss: 0.3941, val_acc: 0.8910\n",
      "Epoch [26], val_loss: 0.3935, val_acc: 0.8913\n",
      "Epoch [27], val_loss: 0.3929, val_acc: 0.8913\n",
      "Epoch [28], val_loss: 0.3923, val_acc: 0.8912\n",
      "Epoch [29], val_loss: 0.3917, val_acc: 0.8912\n",
      "Epoch [30], val_loss: 0.3911, val_acc: 0.8914\n",
      "Epoch [31], val_loss: 0.3906, val_acc: 0.8917\n",
      "Epoch [32], val_loss: 0.3900, val_acc: 0.8918\n",
      "Epoch [33], val_loss: 0.3894, val_acc: 0.8918\n",
      "Epoch [34], val_loss: 0.3889, val_acc: 0.8920\n",
      "Epoch [35], val_loss: 0.3883, val_acc: 0.8922\n",
      "Epoch [36], val_loss: 0.3877, val_acc: 0.8923\n",
      "Epoch [37], val_loss: 0.3872, val_acc: 0.8925\n",
      "Epoch [38], val_loss: 0.3867, val_acc: 0.8925\n",
      "Epoch [39], val_loss: 0.3861, val_acc: 0.8925\n",
      "Epoch [40], val_loss: 0.3856, val_acc: 0.8930\n",
      "Epoch [41], val_loss: 0.3851, val_acc: 0.8929\n",
      "Epoch [42], val_loss: 0.3846, val_acc: 0.8929\n",
      "Epoch [43], val_loss: 0.3841, val_acc: 0.8929\n",
      "Epoch [44], val_loss: 0.3836, val_acc: 0.8929\n",
      "Epoch [45], val_loss: 0.3831, val_acc: 0.8933\n",
      "Epoch [46], val_loss: 0.3826, val_acc: 0.8934\n",
      "Epoch [47], val_loss: 0.3821, val_acc: 0.8937\n",
      "Epoch [48], val_loss: 0.3816, val_acc: 0.8943\n",
      "Epoch [49], val_loss: 0.3811, val_acc: 0.8944\n"
     ]
    }
   ],
   "source": [
    "history3 = fit(50, 0.001, model, train_loader, val_loader)"
   ]
  },
  {
   "cell_type": "code",
   "execution_count": 197,
   "id": "bf42c344",
   "metadata": {},
   "outputs": [
    {
     "data": {
      "image/png": "[encoded data removed]",
      "text/plain": [
       "<Figure size 432x288 with 1 Axes>"
      ]
     },
     "metadata": {
      "needs_background": "light"
     },
     "output_type": "display_data"
    }
   ],
   "source": [
    "history = [result0] + history1 + history2 + history3\n",
    "accuracies = [result['val_acc'] for result in history]\n",
    "plt.plot(accuracies, '-x')\n",
    "plt.xlabel('epoch')\n",
    "plt.ylabel('accuracy')\n",
    "plt.title('Accuracy vs. No. of epochs');"
   ]
  },
  {
   "cell_type": "code",
   "execution_count": 198,
   "id": "0cdb7ed9",
   "metadata": {},
   "outputs": [
    {
     "name": "stdout",
     "output_type": "stream",
     "text": [
      "[jovian] Metrics logged.\u001b[0m\n"
     ]
    }
   ],
   "source": [
    "jovian.log_metrics(val_acc=history[-1]['val_acc'], val_loss=history[-1]['val_loss'])"
   ]
  },
  {
   "cell_type": "code",
   "execution_count": 203,
   "id": "5c5e5e58",
   "metadata": {},
   "outputs": [],
   "source": [
    "test_dataset = MNIST(root='data/',\n",
    "                train=False,\n",
    "                transform = transforms.ToTensor())"
   ]
  },
  {
   "cell_type": "code",
   "execution_count": 211,
   "id": "de3212c7",
   "metadata": {},
   "outputs": [
    {
     "name": "stdout",
     "output_type": "stream",
     "text": [
      "<class 'torch.Tensor'>\n",
      "Shape: torch.Size([1, 28, 28])\n",
      "Label: 7\n"
     ]
    },
    {
     "data": {
      "image/png": "[encoded data removed]",
      "text/plain": [
       "<Figure size 432x288 with 1 Axes>"
      ]
     },
     "metadata": {
      "needs_background": "light"
     },
     "output_type": "display_data"
    }
   ],
   "source": [
    "img, label = test_dataset[0]\n",
    "print(type(img))\n",
    "plt.imshow(img[0], cmap='gray')\n",
    "print('Shape:', img.shape)\n",
    "print('Label:', label)"
   ]
  },
  {
   "cell_type": "code",
   "execution_count": 212,
   "id": "c3b2aeb1",
   "metadata": {},
   "outputs": [],
   "source": [
    "def predict_image(img, model):\n",
    "    xb = img.unsqueeze(0)\n",
    "    yb = model(xb)\n",
    "    _, preds = torch.max(yb, dim=1)\n",
    "    return preds[0].item()"
   ]
  },
  {
   "cell_type": "code",
   "execution_count": 213,
   "id": "5bad50d9",
   "metadata": {},
   "outputs": [
    {
     "name": "stdout",
     "output_type": "stream",
     "text": [
      "Label: 7 , Predicted: 7\n"
     ]
    },
    {
     "data": {
      "image/png": "[encoded data removed]",
      "text/plain": [
       "<Figure size 432x288 with 1 Axes>"
      ]
     },
     "metadata": {
      "needs_background": "light"
     },
     "output_type": "display_data"
    }
   ],
   "source": [
    "img, label = test_dataset[0]\n",
    "plt.imshow(img[0], cmap='gray')\n",
    "print('Label:', label, ', Predicted:', predict_image(img, model))"
   ]
  },
  {
   "cell_type": "code",
   "execution_count": 214,
   "id": "7d374a44",
   "metadata": {},
   "outputs": [
    {
     "name": "stdout",
     "output_type": "stream",
     "text": [
      "Label: 0 , Predicted: 0\n"
     ]
    },
    {
     "data": {
      "image/png": "[encoded data removed]",
      "text/plain": [
       "<Figure size 432x288 with 1 Axes>"
      ]
     },
     "metadata": {
      "needs_background": "light"
     },
     "output_type": "display_data"
    }
   ],
   "source": [
    "img, label = test_dataset[10]\n",
    "plt.imshow(img[0], cmap='gray')\n",
    "print('Label:', label, ', Predicted:', predict_image(img, model))"
   ]
  },
  {
   "cell_type": "code",
   "execution_count": 215,
   "id": "ee9617a9",
   "metadata": {},
   "outputs": [
    {
     "name": "stdout",
     "output_type": "stream",
     "text": [
      "Label: 9 , Predicted: 3\n"
     ]
    },
    {
     "data": {
      "image/png": "[encoded data removed]",
      "text/plain": [
       "<Figure size 432x288 with 1 Axes>"
      ]
     },
     "metadata": {
      "needs_background": "light"
     },
     "output_type": "display_data"
    }
   ],
   "source": [
    "img, label = test_dataset[193]\n",
    "plt.imshow(img[0], cmap='gray')\n",
    "print('Label:', label, ', Predicted:', predict_image(img, model))"
   ]
  },
  {
   "cell_type": "code",
   "execution_count": 216,
   "id": "ac3d389c",
   "metadata": {},
   "outputs": [
    {
     "name": "stdout",
     "output_type": "stream",
     "text": [
      "Label: 2 , Predicted: 8\n"
     ]
    },
    {
     "data": {
      "image/png": "[encoded data removed]",
      "text/plain": [
       "<Figure size 432x288 with 1 Axes>"
      ]
     },
     "metadata": {
      "needs_background": "light"
     },
     "output_type": "display_data"
    }
   ],
   "source": [
    "img, label = test_dataset[1839]\n",
    "plt.imshow(img[0], cmap='gray')\n",
    "print('Label:', label, ', Predicted:', predict_image(img, model))"
   ]
  },
  {
   "cell_type": "code",
   "execution_count": 217,
   "id": "337247b9",
   "metadata": {},
   "outputs": [
    {
     "data": {
      "text/plain": [
       "{'val_loss': 0.3581531345844269, 'val_acc': 0.9039062261581421}"
      ]
     },
     "execution_count": 217,
     "metadata": {},
     "output_type": "execute_result"
    }
   ],
   "source": [
    "test_loader = DataLoader(test_dataset, batch_size=256)\n",
    "result = evaluate(model, test_loader)\n",
    "result"
   ]
  },
  {
   "cell_type": "code",
   "execution_count": 218,
   "id": "98d933b1",
   "metadata": {},
   "outputs": [],
   "source": [
    "torch.save(model.state_dict(), 'mnist-logistic.pth')"
   ]
  },
  {
   "cell_type": "code",
   "execution_count": 219,
   "id": "7d8658c6",
   "metadata": {},
   "outputs": [
    {
     "data": {
      "text/plain": [
       "OrderedDict([('linear.weight',\n",
       "              tensor([[ 0.0349,  0.0325,  0.0228,  ...,  0.0090,  0.0008,  0.0203],\n",
       "                      [ 0.0119,  0.0027,  0.0258,  ..., -0.0277,  0.0224, -0.0216],\n",
       "                      [-0.0304, -0.0002,  0.0195,  ...,  0.0084, -0.0265,  0.0332],\n",
       "                      ...,\n",
       "                      [ 0.0298,  0.0308,  0.0062,  ..., -0.0289, -0.0088, -0.0130],\n",
       "                      [-0.0022, -0.0082, -0.0127,  ...,  0.0166, -0.0017,  0.0209],\n",
       "                      [-0.0042,  0.0189, -0.0280,  ...,  0.0353, -0.0056,  0.0196]])),\n",
       "             ('linear.bias',\n",
       "              tensor([-0.0907,  0.2245, -0.0130, -0.0960,  0.0285,  0.2874,  0.0113,  0.1579,\n",
       "                      -0.3867, -0.0663]))])"
      ]
     },
     "execution_count": 219,
     "metadata": {},
     "output_type": "execute_result"
    }
   ],
   "source": [
    "model.state_dict()"
   ]
  },
  {
   "cell_type": "code",
   "execution_count": 220,
   "id": "72f63227",
   "metadata": {},
   "outputs": [],
   "source": [
    "model2 = MnistModel()"
   ]
  },
  {
   "cell_type": "code",
   "execution_count": 221,
   "id": "82b0daf0",
   "metadata": {},
   "outputs": [
    {
     "data": {
      "text/plain": [
       "OrderedDict([('linear.weight',\n",
       "              tensor([[ 0.0055,  0.0118,  0.0043,  ..., -0.0321,  0.0255,  0.0098],\n",
       "                      [ 0.0099,  0.0169, -0.0152,  ...,  0.0096, -0.0206, -0.0324],\n",
       "                      [ 0.0255, -0.0295, -0.0135,  ...,  0.0318,  0.0312, -0.0241],\n",
       "                      ...,\n",
       "                      [ 0.0263, -0.0336, -0.0086,  ...,  0.0318, -0.0193, -0.0045],\n",
       "                      [ 0.0150, -0.0329,  0.0341,  ..., -0.0024, -0.0175, -0.0137],\n",
       "                      [-0.0008, -0.0212, -0.0036,  ...,  0.0049,  0.0235, -0.0031]])),\n",
       "             ('linear.bias',\n",
       "              tensor([ 0.0227, -0.0121,  0.0331,  0.0114,  0.0258, -0.0117,  0.0298, -0.0280,\n",
       "                      -0.0319,  0.0298]))])"
      ]
     },
     "execution_count": 221,
     "metadata": {},
     "output_type": "execute_result"
    }
   ],
   "source": [
    "model2.state_dict()"
   ]
  },
  {
   "cell_type": "code",
   "execution_count": 222,
   "id": "ce23469d",
   "metadata": {},
   "outputs": [
    {
     "data": {
      "text/plain": [
       "{'val_loss': 2.3198115825653076, 'val_acc': 0.08173827826976776}"
      ]
     },
     "execution_count": 222,
     "metadata": {},
     "output_type": "execute_result"
    }
   ],
   "source": [
    "evaluate(model2, test_loader)"
   ]
  },
  {
   "cell_type": "code",
   "execution_count": 223,
   "id": "c043a73c",
   "metadata": {},
   "outputs": [
    {
     "data": {
      "text/plain": [
       "OrderedDict([('linear.weight',\n",
       "              tensor([[ 0.0349,  0.0325,  0.0228,  ...,  0.0090,  0.0008,  0.0203],\n",
       "                      [ 0.0119,  0.0027,  0.0258,  ..., -0.0277,  0.0224, -0.0216],\n",
       "                      [-0.0304, -0.0002,  0.0195,  ...,  0.0084, -0.0265,  0.0332],\n",
       "                      ...,\n",
       "                      [ 0.0298,  0.0308,  0.0062,  ..., -0.0289, -0.0088, -0.0130],\n",
       "                      [-0.0022, -0.0082, -0.0127,  ...,  0.0166, -0.0017,  0.0209],\n",
       "                      [-0.0042,  0.0189, -0.0280,  ...,  0.0353, -0.0056,  0.0196]])),\n",
       "             ('linear.bias',\n",
       "              tensor([-0.0907,  0.2245, -0.0130, -0.0960,  0.0285,  0.2874,  0.0113,  0.1579,\n",
       "                      -0.3867, -0.0663]))])"
      ]
     },
     "execution_count": 223,
     "metadata": {},
     "output_type": "execute_result"
    }
   ],
   "source": [
    "model2.load_state_dict(torch.load('mnist-logistic.pth'))\n",
    "model2.state_dict()"
   ]
  },
  {
   "cell_type": "code",
   "execution_count": 224,
   "id": "7030b4da",
   "metadata": {},
   "outputs": [
    {
     "data": {
      "text/plain": [
       "{'val_loss': 0.3581531345844269, 'val_acc': 0.9039062261581421}"
      ]
     },
     "execution_count": 224,
     "metadata": {},
     "output_type": "execute_result"
    }
   ],
   "source": [
    "evaluate(model2, test_loader)"
   ]
  },
  {
   "cell_type": "code",
   "execution_count": 225,
   "id": "e21a817d",
   "metadata": {},
   "outputs": [
    {
     "name": "stdout",
     "output_type": "stream",
     "text": [
      "Label: 3 , Predicted: 3\n"
     ]
    },
    {
     "data": {
      "image/png": "[encoded data removed]",
      "text/plain": [
       "<Figure size 432x288 with 1 Axes>"
      ]
     },
     "metadata": {
      "needs_background": "light"
     },
     "output_type": "display_data"
    }
   ],
   "source": [
    "img, label = test_dataset[76]\n",
    "plt.imshow(img[0], cmap='gray')\n",
    "print('Label:', label, ', Predicted:', predict_image(img, model))"
   ]
  },
  {
   "cell_type": "code",
   "execution_count": 226,
   "id": "3b88c095",
   "metadata": {},
   "outputs": [
    {
     "name": "stdout",
     "output_type": "stream",
     "text": [
      "Label: 9 , Predicted: 3\n"
     ]
    },
    {
     "data": {
      "image/png": "[encoded data removed]",
      "text/plain": [
       "<Figure size 432x288 with 1 Axes>"
      ]
     },
     "metadata": {
      "needs_background": "light"
     },
     "output_type": "display_data"
    }
   ],
   "source": [
    "img, label = test_dataset[193]\n",
    "plt.imshow(img[0], cmap='gray')\n",
    "print('Label:', label, ', Predicted:', predict_image(img, model))"
   ]
  },
  {
   "cell_type": "code",
   "execution_count": 229,
   "id": "5e077426",
   "metadata": {},
   "outputs": [],
   "source": [
    "!pip install jovian --upgrade --quiet"
   ]
  },
  {
   "cell_type": "code",
   "execution_count": 230,
   "id": "422f2677",
   "metadata": {},
   "outputs": [],
   "source": [
    "import jovian"
   ]
  },
  {
   "cell_type": "code",
   "execution_count": 232,
   "id": "4e712c56",
   "metadata": {},
   "outputs": [
    {
     "data": {
      "application/javascript": [
       "window.require && require([\"base/js/namespace\"],function(Jupyter){Jupyter.notebook.save_checkpoint()})"
      ],
      "text/plain": [
       "<IPython.core.display.Javascript object>"
      ]
     },
     "metadata": {},
     "output_type": "display_data"
    },
    {
     "name": "stdout",
     "output_type": "stream",
     "text": [
      "[jovian] Updating notebook \"yashrsakaria1/03-logistic-regression\" on https://jovian.ai/\u001b[0m\n",
      "[jovian] Uploading additional outputs...\u001b[0m\n",
      "[jovian] Attaching records (metrics, hyperparameters, dataset etc.)\u001b[0m\n",
      "[jovian] Committed successfully! https://jovian.ai/yashrsakaria1/03-logistic-regression\u001b[0m\n"
     ]
    },
    {
     "data": {
      "text/plain": [
       "'https://jovian.ai/yashrsakaria1/03-logistic-regression'"
      ]
     },
     "execution_count": 232,
     "metadata": {},
     "output_type": "execute_result"
    }
   ],
   "source": [
    "jovian.commit(project='03-logistic-regression',outputs=['mnist-logistic.pth'])"
   ]
  },
  {
   "cell_type": "code",
   "execution_count": null,
   "id": "b5f50224",
   "metadata": {},
   "outputs": [],
   "source": []
  }
 ],
 "metadata": {
  "kernelspec": {
   "display_name": "Python 3 (ipykernel)",
   "language": "python",
   "name": "python3"
  },
  "language_info": {
   "codemirror_mode": {
    "name": "ipython",
    "version": 3
   },
   "file_extension": ".py",
   "mimetype": "text/x-python",
   "name": "python",
   "nbconvert_exporter": "python",
   "pygments_lexer": "ipython3",
   "version": "3.10.4"
  }
 },
 "nbformat": 4,
 "nbformat_minor": 5
}
