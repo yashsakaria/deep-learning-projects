{
 "cells": [
  {
   "cell_type": "code",
   "execution_count": 1,
   "id": "0f7ebf23",
   "metadata": {},
   "outputs": [],
   "source": [
    "# Jovian Commit Essentials\n",
    "# Please retain and execute this cell without modifying the contents for `jovian.commit` to work\n",
    "!pip install jovian --upgrade -q\n",
    "import jovian\n",
    "jovian.set_project('02-insurance-linear-regression-a2')\n",
    "jovian.set_colab_id('1XKkfFlUB1iI4RNrvWK9V6fVXCKmUGGhi')"
   ]
  },
  {
   "cell_type": "code",
   "execution_count": 2,
   "id": "fe65ac9b",
   "metadata": {},
   "outputs": [],
   "source": [
    "import torch\n",
    "import jovian\n",
    "import torchvision\n",
    "import torch.nn as nn\n",
    "import pandas as pd\n",
    "import matplotlib.pyplot as plt\n",
    "import torch.nn.functional as F\n",
    "from torchvision.datasets.utils import download_url\n",
    "from torch.utils.data import DataLoader, TensorDataset, random_split"
   ]
  },
  {
   "cell_type": "code",
   "execution_count": 3,
   "id": "4acae45e",
   "metadata": {},
   "outputs": [],
   "source": [
    "project_name='02-insurance-linear-regression-a2' # will be used by jovian.commit"
   ]
  },
  {
   "cell_type": "code",
   "execution_count": 4,
   "id": "ad949a83",
   "metadata": {},
   "outputs": [
    {
     "name": "stdout",
     "output_type": "stream",
     "text": [
      "Using downloaded and verified file: .\\insurance.csv\n"
     ]
    }
   ],
   "source": [
    "DATASET_URL = \"https://hub.jovian.ml/wp-content/uploads/2020/05/insurance.csv\"\n",
    "DATA_FILENAME = \"insurance.csv\"\n",
    "download_url(DATASET_URL, '.')"
   ]
  },
  {
   "cell_type": "code",
   "execution_count": 5,
   "id": "dc90744c",
   "metadata": {},
   "outputs": [
    {
     "data": {
      "text/html": [
       "<div>\n",
       "<style scoped>\n",
       "    .dataframe tbody tr th:only-of-type {\n",
       "        vertical-align: middle;\n",
       "    }\n",
       "\n",
       "    .dataframe tbody tr th {\n",
       "        vertical-align: top;\n",
       "    }\n",
       "\n",
       "    .dataframe thead th {\n",
       "        text-align: right;\n",
       "    }\n",
       "</style>\n",
       "<table border=\"1\" class=\"dataframe\">\n",
       "  <thead>\n",
       "    <tr style=\"text-align: right;\">\n",
       "      <th></th>\n",
       "      <th>age</th>\n",
       "      <th>sex</th>\n",
       "      <th>bmi</th>\n",
       "      <th>children</th>\n",
       "      <th>smoker</th>\n",
       "      <th>region</th>\n",
       "      <th>charges</th>\n",
       "    </tr>\n",
       "  </thead>\n",
       "  <tbody>\n",
       "    <tr>\n",
       "      <th>0</th>\n",
       "      <td>19</td>\n",
       "      <td>female</td>\n",
       "      <td>27.900</td>\n",
       "      <td>0</td>\n",
       "      <td>yes</td>\n",
       "      <td>southwest</td>\n",
       "      <td>16884.92400</td>\n",
       "    </tr>\n",
       "    <tr>\n",
       "      <th>1</th>\n",
       "      <td>18</td>\n",
       "      <td>male</td>\n",
       "      <td>33.770</td>\n",
       "      <td>1</td>\n",
       "      <td>no</td>\n",
       "      <td>southeast</td>\n",
       "      <td>1725.55230</td>\n",
       "    </tr>\n",
       "    <tr>\n",
       "      <th>2</th>\n",
       "      <td>28</td>\n",
       "      <td>male</td>\n",
       "      <td>33.000</td>\n",
       "      <td>3</td>\n",
       "      <td>no</td>\n",
       "      <td>southeast</td>\n",
       "      <td>4449.46200</td>\n",
       "    </tr>\n",
       "    <tr>\n",
       "      <th>3</th>\n",
       "      <td>33</td>\n",
       "      <td>male</td>\n",
       "      <td>22.705</td>\n",
       "      <td>0</td>\n",
       "      <td>no</td>\n",
       "      <td>northwest</td>\n",
       "      <td>21984.47061</td>\n",
       "    </tr>\n",
       "    <tr>\n",
       "      <th>4</th>\n",
       "      <td>32</td>\n",
       "      <td>male</td>\n",
       "      <td>28.880</td>\n",
       "      <td>0</td>\n",
       "      <td>no</td>\n",
       "      <td>northwest</td>\n",
       "      <td>3866.85520</td>\n",
       "    </tr>\n",
       "  </tbody>\n",
       "</table>\n",
       "</div>"
      ],
      "text/plain": [
       "   age     sex     bmi  children smoker     region      charges\n",
       "0   19  female  27.900         0    yes  southwest  16884.92400\n",
       "1   18    male  33.770         1     no  southeast   1725.55230\n",
       "2   28    male  33.000         3     no  southeast   4449.46200\n",
       "3   33    male  22.705         0     no  northwest  21984.47061\n",
       "4   32    male  28.880         0     no  northwest   3866.85520"
      ]
     },
     "execution_count": 5,
     "metadata": {},
     "output_type": "execute_result"
    }
   ],
   "source": [
    "dataframe_raw = pd.read_csv(DATA_FILENAME)\n",
    "dataframe_raw.head()"
   ]
  },
  {
   "cell_type": "code",
   "execution_count": 6,
   "id": "7ef433c2",
   "metadata": {},
   "outputs": [],
   "source": [
    "your_name = \"yashsakaria\""
   ]
  },
  {
   "cell_type": "code",
   "execution_count": 7,
   "id": "0c58115c",
   "metadata": {},
   "outputs": [],
   "source": [
    "def customize_dataset(dataframe_raw, rand_str):\n",
    "    dataframe = dataframe_raw.copy(deep=True)\n",
    "    # drop some rows\n",
    "    dataframe = dataframe.sample(int(0.95*len(dataframe)), random_state=int(ord(rand_str[0])))\n",
    "    # scale input\n",
    "    dataframe.bmi = dataframe.bmi * ord(rand_str[1])/100.\n",
    "    # scale target\n",
    "    dataframe.charges = dataframe.charges * ord(rand_str[2])/100.\n",
    "    # drop column\n",
    "    if ord(rand_str[3]) % 2 == 0:\n",
    "        dataframe = dataframe.drop(['region'], axis=1)\n",
    "    return dataframe"
   ]
  },
  {
   "cell_type": "code",
   "execution_count": 8,
   "id": "5eab45aa",
   "metadata": {},
   "outputs": [
    {
     "data": {
      "text/html": [
       "<div>\n",
       "<style scoped>\n",
       "    .dataframe tbody tr th:only-of-type {\n",
       "        vertical-align: middle;\n",
       "    }\n",
       "\n",
       "    .dataframe tbody tr th {\n",
       "        vertical-align: top;\n",
       "    }\n",
       "\n",
       "    .dataframe thead th {\n",
       "        text-align: right;\n",
       "    }\n",
       "</style>\n",
       "<table border=\"1\" class=\"dataframe\">\n",
       "  <thead>\n",
       "    <tr style=\"text-align: right;\">\n",
       "      <th></th>\n",
       "      <th>age</th>\n",
       "      <th>sex</th>\n",
       "      <th>bmi</th>\n",
       "      <th>children</th>\n",
       "      <th>smoker</th>\n",
       "      <th>charges</th>\n",
       "    </tr>\n",
       "  </thead>\n",
       "  <tbody>\n",
       "    <tr>\n",
       "      <th>644</th>\n",
       "      <td>43</td>\n",
       "      <td>male</td>\n",
       "      <td>34.25070</td>\n",
       "      <td>2</td>\n",
       "      <td>no</td>\n",
       "      <td>21627.067290</td>\n",
       "    </tr>\n",
       "    <tr>\n",
       "      <th>156</th>\n",
       "      <td>48</td>\n",
       "      <td>male</td>\n",
       "      <td>23.68740</td>\n",
       "      <td>0</td>\n",
       "      <td>yes</td>\n",
       "      <td>24407.227170</td>\n",
       "    </tr>\n",
       "    <tr>\n",
       "      <th>15</th>\n",
       "      <td>19</td>\n",
       "      <td>male</td>\n",
       "      <td>23.86200</td>\n",
       "      <td>1</td>\n",
       "      <td>no</td>\n",
       "      <td>2112.822550</td>\n",
       "    </tr>\n",
       "    <tr>\n",
       "      <th>432</th>\n",
       "      <td>42</td>\n",
       "      <td>male</td>\n",
       "      <td>26.09300</td>\n",
       "      <td>0</td>\n",
       "      <td>no</td>\n",
       "      <td>6865.181450</td>\n",
       "    </tr>\n",
       "    <tr>\n",
       "      <th>20</th>\n",
       "      <td>60</td>\n",
       "      <td>female</td>\n",
       "      <td>34.92485</td>\n",
       "      <td>0</td>\n",
       "      <td>no</td>\n",
       "      <td>15213.173993</td>\n",
       "    </tr>\n",
       "  </tbody>\n",
       "</table>\n",
       "</div>"
      ],
      "text/plain": [
       "     age     sex       bmi  children smoker       charges\n",
       "644   43    male  34.25070         2     no  21627.067290\n",
       "156   48    male  23.68740         0    yes  24407.227170\n",
       "15    19    male  23.86200         1     no   2112.822550\n",
       "432   42    male  26.09300         0     no   6865.181450\n",
       "20    60  female  34.92485         0     no  15213.173993"
      ]
     },
     "execution_count": 8,
     "metadata": {},
     "output_type": "execute_result"
    }
   ],
   "source": [
    "dataframe = customize_dataset(dataframe_raw, your_name)\n",
    "dataframe.head()"
   ]
  },
  {
   "cell_type": "code",
   "execution_count": 9,
   "id": "5a7d500e",
   "metadata": {},
   "outputs": [
    {
     "data": {
      "text/plain": [
       "(1271, 6)"
      ]
     },
     "execution_count": 9,
     "metadata": {},
     "output_type": "execute_result"
    }
   ],
   "source": [
    "dataframe.shape"
   ]
  },
  {
   "cell_type": "code",
   "execution_count": 10,
   "id": "bd4da5f3",
   "metadata": {},
   "outputs": [
    {
     "name": "stdout",
     "output_type": "stream",
     "text": [
      "1271\n"
     ]
    }
   ],
   "source": [
    "num_rows = dataframe.shape[0]\n",
    "print(num_rows)"
   ]
  },
  {
   "cell_type": "code",
   "execution_count": 11,
   "id": "b664f61d",
   "metadata": {},
   "outputs": [
    {
     "name": "stdout",
     "output_type": "stream",
     "text": [
      "6\n"
     ]
    }
   ],
   "source": [
    "num_cols = dataframe.shape[1]\n",
    "print(num_cols)"
   ]
  },
  {
   "cell_type": "code",
   "execution_count": 12,
   "id": "a7efc560",
   "metadata": {},
   "outputs": [
    {
     "data": {
      "text/plain": [
       "['age', 'sex', 'bmi', 'children', 'smoker']"
      ]
     },
     "execution_count": 12,
     "metadata": {},
     "output_type": "execute_result"
    }
   ],
   "source": [
    "input_cols = ['age', 'sex', 'bmi', 'children', 'smoker',]\n",
    "input_cols"
   ]
  },
  {
   "cell_type": "code",
   "execution_count": 13,
   "id": "26ecf6b6",
   "metadata": {},
   "outputs": [
    {
     "data": {
      "text/plain": [
       "age           int64\n",
       "sex          object\n",
       "bmi         float64\n",
       "children      int64\n",
       "smoker       object\n",
       "charges     float64\n",
       "dtype: object"
      ]
     },
     "execution_count": 13,
     "metadata": {},
     "output_type": "execute_result"
    }
   ],
   "source": [
    "dataframe.dtypes"
   ]
  },
  {
   "cell_type": "code",
   "execution_count": 14,
   "id": "96dc241b",
   "metadata": {},
   "outputs": [
    {
     "data": {
      "text/plain": [
       "['sex', 'smoker']"
      ]
     },
     "execution_count": 14,
     "metadata": {},
     "output_type": "execute_result"
    }
   ],
   "source": [
    "# categorical_cols = [dataframe.select_dtypes(include=['object'])]\n",
    "\n",
    "categorical_cols = dataframe.columns[dataframe.dtypes == 'object'].tolist()\n",
    "categorical_cols"
   ]
  },
  {
   "cell_type": "code",
   "execution_count": 15,
   "id": "ded3a756",
   "metadata": {},
   "outputs": [
    {
     "data": {
      "text/html": [
       "<div>\n",
       "<style scoped>\n",
       "    .dataframe tbody tr th:only-of-type {\n",
       "        vertical-align: middle;\n",
       "    }\n",
       "\n",
       "    .dataframe tbody tr th {\n",
       "        vertical-align: top;\n",
       "    }\n",
       "\n",
       "    .dataframe thead th {\n",
       "        text-align: right;\n",
       "    }\n",
       "</style>\n",
       "<table border=\"1\" class=\"dataframe\">\n",
       "  <thead>\n",
       "    <tr style=\"text-align: right;\">\n",
       "      <th></th>\n",
       "      <th>age</th>\n",
       "      <th>sex</th>\n",
       "      <th>bmi</th>\n",
       "      <th>children</th>\n",
       "      <th>smoker</th>\n",
       "      <th>charges</th>\n",
       "    </tr>\n",
       "  </thead>\n",
       "  <tbody>\n",
       "    <tr>\n",
       "      <th>644</th>\n",
       "      <td>43</td>\n",
       "      <td>male</td>\n",
       "      <td>34.25070</td>\n",
       "      <td>2</td>\n",
       "      <td>no</td>\n",
       "      <td>21627.067290</td>\n",
       "    </tr>\n",
       "    <tr>\n",
       "      <th>156</th>\n",
       "      <td>48</td>\n",
       "      <td>male</td>\n",
       "      <td>23.68740</td>\n",
       "      <td>0</td>\n",
       "      <td>yes</td>\n",
       "      <td>24407.227170</td>\n",
       "    </tr>\n",
       "    <tr>\n",
       "      <th>15</th>\n",
       "      <td>19</td>\n",
       "      <td>male</td>\n",
       "      <td>23.86200</td>\n",
       "      <td>1</td>\n",
       "      <td>no</td>\n",
       "      <td>2112.822550</td>\n",
       "    </tr>\n",
       "    <tr>\n",
       "      <th>432</th>\n",
       "      <td>42</td>\n",
       "      <td>male</td>\n",
       "      <td>26.09300</td>\n",
       "      <td>0</td>\n",
       "      <td>no</td>\n",
       "      <td>6865.181450</td>\n",
       "    </tr>\n",
       "    <tr>\n",
       "      <th>20</th>\n",
       "      <td>60</td>\n",
       "      <td>female</td>\n",
       "      <td>34.92485</td>\n",
       "      <td>0</td>\n",
       "      <td>no</td>\n",
       "      <td>15213.173993</td>\n",
       "    </tr>\n",
       "    <tr>\n",
       "      <th>...</th>\n",
       "      <td>...</td>\n",
       "      <td>...</td>\n",
       "      <td>...</td>\n",
       "      <td>...</td>\n",
       "      <td>...</td>\n",
       "      <td>...</td>\n",
       "    </tr>\n",
       "    <tr>\n",
       "      <th>578</th>\n",
       "      <td>52</td>\n",
       "      <td>male</td>\n",
       "      <td>29.29400</td>\n",
       "      <td>1</td>\n",
       "      <td>no</td>\n",
       "      <td>11183.209500</td>\n",
       "    </tr>\n",
       "    <tr>\n",
       "      <th>718</th>\n",
       "      <td>51</td>\n",
       "      <td>female</td>\n",
       "      <td>35.56990</td>\n",
       "      <td>2</td>\n",
       "      <td>no</td>\n",
       "      <td>12475.354445</td>\n",
       "    </tr>\n",
       "    <tr>\n",
       "      <th>1208</th>\n",
       "      <td>37</td>\n",
       "      <td>female</td>\n",
       "      <td>24.78835</td>\n",
       "      <td>1</td>\n",
       "      <td>yes</td>\n",
       "      <td>23341.392968</td>\n",
       "    </tr>\n",
       "    <tr>\n",
       "      <th>130</th>\n",
       "      <td>59</td>\n",
       "      <td>female</td>\n",
       "      <td>25.70985</td>\n",
       "      <td>0</td>\n",
       "      <td>no</td>\n",
       "      <td>14737.761692</td>\n",
       "    </tr>\n",
       "    <tr>\n",
       "      <th>701</th>\n",
       "      <td>50</td>\n",
       "      <td>female</td>\n",
       "      <td>43.40265</td>\n",
       "      <td>0</td>\n",
       "      <td>no</td>\n",
       "      <td>10972.949882</td>\n",
       "    </tr>\n",
       "  </tbody>\n",
       "</table>\n",
       "<p>1271 rows × 6 columns</p>\n",
       "</div>"
      ],
      "text/plain": [
       "      age     sex       bmi  children smoker       charges\n",
       "644    43    male  34.25070         2     no  21627.067290\n",
       "156    48    male  23.68740         0    yes  24407.227170\n",
       "15     19    male  23.86200         1     no   2112.822550\n",
       "432    42    male  26.09300         0     no   6865.181450\n",
       "20     60  female  34.92485         0     no  15213.173993\n",
       "...   ...     ...       ...       ...    ...           ...\n",
       "578    52    male  29.29400         1     no  11183.209500\n",
       "718    51  female  35.56990         2     no  12475.354445\n",
       "1208   37  female  24.78835         1    yes  23341.392968\n",
       "130    59  female  25.70985         0     no  14737.761692\n",
       "701    50  female  43.40265         0     no  10972.949882\n",
       "\n",
       "[1271 rows x 6 columns]"
      ]
     },
     "execution_count": 15,
     "metadata": {},
     "output_type": "execute_result"
    }
   ],
   "source": [
    "dataframe"
   ]
  },
  {
   "cell_type": "code",
   "execution_count": 16,
   "id": "0c10c272",
   "metadata": {},
   "outputs": [
    {
     "data": {
      "text/plain": [
       "1290.1549850000001"
      ]
     },
     "execution_count": 16,
     "metadata": {},
     "output_type": "execute_result"
    }
   ],
   "source": [
    "dataframe['charges'].min()"
   ]
  },
  {
   "cell_type": "code",
   "execution_count": 17,
   "id": "af88b299",
   "metadata": {},
   "outputs": [
    {
     "data": {
      "text/plain": [
       "73335.99221150001"
      ]
     },
     "execution_count": 17,
     "metadata": {},
     "output_type": "execute_result"
    }
   ],
   "source": [
    "dataframe['charges'].max()"
   ]
  },
  {
   "cell_type": "code",
   "execution_count": 18,
   "id": "797c2a7f",
   "metadata": {},
   "outputs": [
    {
     "data": {
      "text/plain": [
       "15374.472696276829"
      ]
     },
     "execution_count": 18,
     "metadata": {},
     "output_type": "execute_result"
    }
   ],
   "source": [
    "dataframe['charges'].mean()"
   ]
  },
  {
   "cell_type": "code",
   "execution_count": 19,
   "id": "bd4bf308",
   "metadata": {},
   "outputs": [],
   "source": [
    "!pip install jovian --upgrade -q"
   ]
  },
  {
   "cell_type": "code",
   "execution_count": 20,
   "id": "0b2e4fe0",
   "metadata": {},
   "outputs": [],
   "source": [
    "import jovian"
   ]
  },
  {
   "cell_type": "code",
   "execution_count": 21,
   "id": "1b58ed98",
   "metadata": {},
   "outputs": [],
   "source": [
    "# jovian.commit(project=project_name)"
   ]
  },
  {
   "cell_type": "code",
   "execution_count": 22,
   "id": "841e626e",
   "metadata": {},
   "outputs": [],
   "source": [
    "output_cols = ['charges']"
   ]
  },
  {
   "cell_type": "code",
   "execution_count": 23,
   "id": "2b6e0017",
   "metadata": {},
   "outputs": [],
   "source": [
    "def dataframe_to_arrays(dataframe):\n",
    "    # Make a copy of the original dataframe\n",
    "    dataframe1 = dataframe.copy(deep=True)\n",
    "    # Convert non-numeric categorical columns to numbers\n",
    "    for col in categorical_cols:\n",
    "        dataframe1[col] = dataframe1[col].astype('category').cat.codes\n",
    "    # Extract input & outupts as numpy arrays\n",
    "    inputs_array = dataframe1[input_cols].to_numpy()\n",
    "    targets_array = dataframe1[output_cols].to_numpy()\n",
    "    return inputs_array, targets_array"
   ]
  },
  {
   "cell_type": "code",
   "execution_count": 24,
   "id": "cb5603b0",
   "metadata": {},
   "outputs": [
    {
     "data": {
      "text/plain": [
       "(array([[43.     ,  1.     , 34.2507 ,  2.     ,  0.     ],\n",
       "        [48.     ,  1.     , 23.6874 ,  0.     ,  1.     ],\n",
       "        [19.     ,  1.     , 23.862  ,  1.     ,  0.     ],\n",
       "        ...,\n",
       "        [37.     ,  0.     , 24.78835,  1.     ,  1.     ],\n",
       "        [59.     ,  0.     , 25.70985,  0.     ,  0.     ],\n",
       "        [50.     ,  0.     , 43.40265,  0.     ,  0.     ]]),\n",
       " array([[21627.0672905],\n",
       "        [24407.22717  ],\n",
       "        [ 2112.82255  ],\n",
       "        ...,\n",
       "        [23341.3929675],\n",
       "        [14737.7616925],\n",
       "        [10972.9498825]]))"
      ]
     },
     "execution_count": 24,
     "metadata": {},
     "output_type": "execute_result"
    }
   ],
   "source": [
    "inputs_array, targets_array = dataframe_to_arrays(dataframe)\n",
    "inputs_array, targets_array"
   ]
  },
  {
   "cell_type": "code",
   "execution_count": 25,
   "id": "46656718",
   "metadata": {},
   "outputs": [],
   "source": [
    "import numpy as np\n",
    "inputs = torch.from_numpy(np.array(inputs_array , dtype='float32'))\n",
    "targets = torch.from_numpy(np.array(targets_array , dtype='float32'))"
   ]
  },
  {
   "cell_type": "code",
   "execution_count": 26,
   "id": "be5c081c",
   "metadata": {},
   "outputs": [
    {
     "data": {
      "text/plain": [
       "(torch.float32, torch.float32)"
      ]
     },
     "execution_count": 26,
     "metadata": {},
     "output_type": "execute_result"
    }
   ],
   "source": [
    "inputs.dtype , targets.dtype"
   ]
  },
  {
   "cell_type": "code",
   "execution_count": 27,
   "id": "7bf92d6b",
   "metadata": {},
   "outputs": [],
   "source": [
    "dataset = TensorDataset(inputs,targets)"
   ]
  },
  {
   "cell_type": "code",
   "execution_count": 28,
   "id": "9fb131ea",
   "metadata": {},
   "outputs": [],
   "source": [
    "val_percent = 0.17\n",
    "val_size = int(num_rows*val_percent)\n",
    "train_size = num_rows - val_size\n",
    "\n",
    "train_ds , val_ds = random_split(dataset , [train_size , val_size])"
   ]
  },
  {
   "cell_type": "code",
   "execution_count": 29,
   "id": "11440134",
   "metadata": {},
   "outputs": [],
   "source": [
    "batch_size = 16"
   ]
  },
  {
   "cell_type": "code",
   "execution_count": 30,
   "id": "6b43b210",
   "metadata": {},
   "outputs": [],
   "source": [
    "train_loader = DataLoader(train_ds , batch_size , shuffle=True)\n",
    "val_loader = DataLoader(val_ds , batch_size)"
   ]
  },
  {
   "cell_type": "code",
   "execution_count": 31,
   "id": "6747129e",
   "metadata": {},
   "outputs": [
    {
     "name": "stdout",
     "output_type": "stream",
     "text": [
      "tensor([[31.0000,  1.0000, 35.2110,  2.0000,  1.0000],\n",
      "        [18.0000,  0.0000, 35.7445,  0.0000,  1.0000],\n",
      "        [45.0000,  0.0000, 38.7952,  3.0000,  0.0000],\n",
      "        [39.0000,  1.0000, 33.0770,  2.0000,  0.0000],\n",
      "        [44.0000,  0.0000, 31.3698,  1.0000,  0.0000],\n",
      "        [42.0000,  1.0000, 25.2879,  1.0000,  1.0000],\n",
      "        [20.0000,  1.0000, 27.1842,  1.0000,  1.0000],\n",
      "        [30.0000,  0.0000, 22.9454,  3.0000,  1.0000],\n",
      "        [59.0000,  1.0000, 26.6750,  1.0000,  0.0000],\n",
      "        [50.0000,  1.0000, 31.3310,  1.0000,  1.0000],\n",
      "        [29.0000,  1.0000, 34.4350,  2.0000,  1.0000],\n",
      "        [33.0000,  1.0000, 24.0511,  0.0000,  1.0000],\n",
      "        [33.0000,  0.0000, 17.9450,  1.0000,  0.0000],\n",
      "        [43.0000,  1.0000, 25.2491,  0.0000,  0.0000],\n",
      "        [53.0000,  0.0000, 25.8020,  0.0000,  0.0000],\n",
      "        [46.0000,  0.0000, 31.3310,  2.0000,  0.0000]])\n",
      "tensor([[44517.6484],\n",
      "        [41571.9062],\n",
      "        [11160.3682],\n",
      "        [27097.4688],\n",
      "        [ 8778.7783],\n",
      "        [43982.4336],\n",
      "        [20194.4375],\n",
      "        [21580.7559],\n",
      "        [14183.9023],\n",
      "        [48206.9609],\n",
      "        [51273.2734],\n",
      "        [20590.2070],\n",
      "        [ 5480.9253],\n",
      "        [ 7862.9741],\n",
      "        [11908.9873],\n",
      "        [10822.6553]])\n"
     ]
    }
   ],
   "source": [
    "for xb , yb in train_loader:\n",
    "    print(xb)\n",
    "    print(yb)\n",
    "    break"
   ]
  },
  {
   "cell_type": "code",
   "execution_count": 32,
   "id": "6aed56f2",
   "metadata": {},
   "outputs": [],
   "source": [
    "# jovian.commit(project=project_name, environment=None)"
   ]
  },
  {
   "cell_type": "code",
   "execution_count": 33,
   "id": "bfac5ad2",
   "metadata": {},
   "outputs": [],
   "source": [
    "input_size = len(input_cols)\n",
    "output_size = len(output_cols)"
   ]
  },
  {
   "cell_type": "code",
   "execution_count": 34,
   "id": "ca49d57d",
   "metadata": {},
   "outputs": [],
   "source": [
    "class InsuranceModel(nn.Module):\n",
    "    \n",
    "    def __init__(self):\n",
    "        super().__init__()\n",
    "        self.linear = nn.Linear(input_size , output_size)\n",
    "        \n",
    "    def forward(self,xb):\n",
    "        outputs = self.linear(xb)\n",
    "        return outputs\n",
    "    \n",
    "    def training_step(self,batch):\n",
    "        inputs , targets = batch\n",
    "        outputs = self(inputs)\n",
    "        loss = F.huber_loss(outputs , targets , delta = 0.05)\n",
    "        return loss\n",
    "    \n",
    "    def validation_step(self,batch):\n",
    "        inputs , targets = batch\n",
    "        outputs = self(inputs)\n",
    "        loss = F.huber_loss(outputs , targets , delta = 0.05)\n",
    "        return {'val_loss' : loss.detach()}\n",
    "\n",
    "    def validation_epoch_end(self, outputs):\n",
    "        batch_losses = [x['val_loss'] for x in outputs]\n",
    "        epoch_loss = torch.stack(batch_losses).mean()   # Combine losses\n",
    "        return {'val_loss': epoch_loss.item()}\n",
    "    \n",
    "    def epoch_end(self, epoch, result, num_epochs):\n",
    "        # Print result every 20th epoch\n",
    "        if (epoch+1) % 20 == 0 or epoch == num_epochs-1:\n",
    "            print(\"Epoch [{}], val_loss: {:.4f}\".format(epoch+1, result['val_loss']))"
   ]
  },
  {
   "cell_type": "code",
   "execution_count": 35,
   "id": "ce155e6c",
   "metadata": {},
   "outputs": [],
   "source": [
    "model = InsuranceModel()"
   ]
  },
  {
   "cell_type": "code",
   "execution_count": 36,
   "id": "fd9e6c67",
   "metadata": {},
   "outputs": [
    {
     "data": {
      "text/plain": [
       "[Parameter containing:\n",
       " tensor([[-0.1633,  0.0595, -0.2683, -0.2805, -0.3938]], requires_grad=True),\n",
       " Parameter containing:\n",
       " tensor([-0.0889], requires_grad=True)]"
      ]
     },
     "execution_count": 36,
     "metadata": {},
     "output_type": "execute_result"
    }
   ],
   "source": [
    "list(model.parameters())"
   ]
  },
  {
   "cell_type": "code",
   "execution_count": 37,
   "id": "034b4d3c",
   "metadata": {},
   "outputs": [],
   "source": [
    "# jovian.commit(project=project_name, environment=None)"
   ]
  },
  {
   "cell_type": "code",
   "execution_count": 38,
   "id": "e4bab436",
   "metadata": {},
   "outputs": [],
   "source": [
    "def evaluate(model , val_loader):\n",
    "    outputs = [model.validation_step(batch) for batch in val_loader]\n",
    "    return model.validation_epoch_end(outputs)\n",
    "    \n",
    "def fit(epochs , lr , model , train_loader , val_loader , opt_fun=torch.optim.SGD):\n",
    "    \n",
    "    optimizer = opt_fun(model.parameters() , lr)\n",
    "    history = []\n",
    "    \n",
    "    for epoch in range(epochs):\n",
    "        \n",
    "        for batch in train_loader:\n",
    "            loss = model.training_step(batch)\n",
    "            loss.backward()\n",
    "            optimizer.step()\n",
    "            optimizer.zero_grad()\n",
    "            \n",
    "        result = evaluate(model , val_loader)\n",
    "        model.epoch_end(epoch , result , epochs)\n",
    "        history.append(result)\n",
    "        \n",
    "    return history"
   ]
  },
  {
   "cell_type": "code",
   "execution_count": 39,
   "id": "f87daf77",
   "metadata": {},
   "outputs": [
    {
     "name": "stdout",
     "output_type": "stream",
     "text": [
      "{'val_loss': 853.8328857421875}\n"
     ]
    }
   ],
   "source": [
    "result = evaluate(model , val_loader)\n",
    "print(result)"
   ]
  },
  {
   "cell_type": "code",
   "execution_count": 40,
   "id": "184d0dce",
   "metadata": {},
   "outputs": [
    {
     "name": "stdout",
     "output_type": "stream",
     "text": [
      "Epoch [20], val_loss: 845.6334\n",
      "Epoch [40], val_loss: 837.4344\n",
      "Epoch [60], val_loss: 829.2352\n",
      "Epoch [80], val_loss: 821.0361\n",
      "Epoch [100], val_loss: 812.8370\n"
     ]
    }
   ],
   "source": [
    "epochs = 100\n",
    "lr = 1e-3\n",
    "history1 = fit(epochs, lr, model, train_loader, val_loader)"
   ]
  },
  {
   "cell_type": "code",
   "execution_count": 41,
   "id": "4695925f",
   "metadata": {},
   "outputs": [
    {
     "name": "stdout",
     "output_type": "stream",
     "text": [
      "Epoch [20], val_loss: 487.6066\n",
      "Epoch [40], val_loss: 480.2242\n",
      "Epoch [60], val_loss: 476.9972\n",
      "Epoch [80], val_loss: 474.2058\n",
      "Epoch [100], val_loss: 471.6782\n"
     ]
    }
   ],
   "source": [
    "history2 = fit(100, 1e-1, model, train_loader, val_loader)"
   ]
  },
  {
   "cell_type": "code",
   "execution_count": 42,
   "id": "aa26e025",
   "metadata": {},
   "outputs": [
    {
     "name": "stdout",
     "output_type": "stream",
     "text": [
      "Epoch [20], val_loss: 469.2337\n",
      "Epoch [40], val_loss: 466.7165\n",
      "Epoch [60], val_loss: 464.6960\n",
      "Epoch [80], val_loss: 463.0800\n",
      "Epoch [100], val_loss: 461.7895\n"
     ]
    }
   ],
   "source": [
    "history3 = fit(100, 1e-1, model, train_loader, val_loader)"
   ]
  },
  {
   "cell_type": "code",
   "execution_count": 43,
   "id": "ac8b0e74",
   "metadata": {},
   "outputs": [
    {
     "name": "stdout",
     "output_type": "stream",
     "text": [
      "Epoch [20], val_loss: 461.0128\n",
      "Epoch [40], val_loss: 460.4577\n",
      "Epoch [60], val_loss: 460.2712\n",
      "Epoch [80], val_loss: 460.1110\n",
      "Epoch [100], val_loss: 460.0673\n",
      "Epoch [120], val_loss: 459.9591\n",
      "Epoch [140], val_loss: 459.8914\n",
      "Epoch [160], val_loss: 459.8595\n",
      "Epoch [180], val_loss: 459.8005\n",
      "Epoch [200], val_loss: 459.7618\n",
      "Epoch [220], val_loss: 459.7369\n",
      "Epoch [240], val_loss: 459.7089\n",
      "Epoch [260], val_loss: 459.6660\n",
      "Epoch [280], val_loss: 459.6094\n",
      "Epoch [300], val_loss: 459.5354\n",
      "Epoch [320], val_loss: 459.4954\n",
      "Epoch [340], val_loss: 459.4575\n",
      "Epoch [360], val_loss: 459.4015\n",
      "Epoch [380], val_loss: 459.3689\n",
      "Epoch [400], val_loss: 459.3318\n",
      "Epoch [420], val_loss: 459.2808\n",
      "Epoch [440], val_loss: 459.2662\n",
      "Epoch [460], val_loss: 459.2134\n",
      "Epoch [480], val_loss: 459.1864\n",
      "Epoch [500], val_loss: 459.1678\n"
     ]
    }
   ],
   "source": [
    "history4 = fit(500, 1e-1, model, train_loader, val_loader)"
   ]
  },
  {
   "cell_type": "code",
   "execution_count": 44,
   "id": "ecf799ac",
   "metadata": {},
   "outputs": [
    {
     "name": "stdout",
     "output_type": "stream",
     "text": [
      "Epoch [20], val_loss: 459.0933\n",
      "Epoch [40], val_loss: 459.0847\n",
      "Epoch [60], val_loss: 459.0407\n",
      "Epoch [80], val_loss: 459.0253\n",
      "Epoch [100], val_loss: 458.9826\n",
      "Epoch [120], val_loss: 458.9727\n",
      "Epoch [140], val_loss: 458.9513\n",
      "Epoch [160], val_loss: 458.8806\n",
      "Epoch [180], val_loss: 458.8778\n",
      "Epoch [200], val_loss: 458.8456\n",
      "Epoch [220], val_loss: 458.8020\n",
      "Epoch [240], val_loss: 458.7587\n",
      "Epoch [260], val_loss: 458.7208\n",
      "Epoch [280], val_loss: 458.7122\n",
      "Epoch [300], val_loss: 458.6762\n",
      "Epoch [320], val_loss: 458.6346\n",
      "Epoch [340], val_loss: 458.5925\n",
      "Epoch [360], val_loss: 458.5894\n",
      "Epoch [380], val_loss: 458.5630\n",
      "Epoch [400], val_loss: 458.5318\n",
      "Epoch [420], val_loss: 458.4814\n",
      "Epoch [440], val_loss: 458.4477\n",
      "Epoch [460], val_loss: 458.4190\n",
      "Epoch [480], val_loss: 458.3946\n",
      "Epoch [500], val_loss: 458.3589\n",
      "Epoch [520], val_loss: 458.3303\n",
      "Epoch [540], val_loss: 458.2945\n",
      "Epoch [560], val_loss: 458.2919\n",
      "Epoch [580], val_loss: 458.2390\n",
      "Epoch [600], val_loss: 458.1989\n",
      "Epoch [620], val_loss: 458.1991\n",
      "Epoch [640], val_loss: 458.1337\n",
      "Epoch [660], val_loss: 458.1091\n",
      "Epoch [680], val_loss: 458.0788\n",
      "Epoch [700], val_loss: 458.0606\n",
      "Epoch [720], val_loss: 458.0117\n",
      "Epoch [740], val_loss: 458.0103\n",
      "Epoch [760], val_loss: 457.9504\n",
      "Epoch [780], val_loss: 457.9161\n",
      "Epoch [800], val_loss: 457.8642\n",
      "Epoch [820], val_loss: 457.8386\n",
      "Epoch [840], val_loss: 457.8008\n",
      "Epoch [860], val_loss: 457.8022\n",
      "Epoch [880], val_loss: 457.7563\n",
      "Epoch [900], val_loss: 457.7173\n",
      "Epoch [920], val_loss: 457.7004\n",
      "Epoch [940], val_loss: 457.6310\n",
      "Epoch [960], val_loss: 457.6213\n",
      "Epoch [980], val_loss: 457.5727\n",
      "Epoch [1000], val_loss: 457.5482\n"
     ]
    }
   ],
   "source": [
    "history5 = fit(1000, 1e-1, model, train_loader, val_loader)"
   ]
  },
  {
   "cell_type": "code",
   "execution_count": 46,
   "id": "7df451d8",
   "metadata": {},
   "outputs": [
    {
     "data": {
      "text/plain": [
       "{'val_loss': 457.54815673828125}"
      ]
     },
     "execution_count": 46,
     "metadata": {},
     "output_type": "execute_result"
    }
   ],
   "source": [
    "result = evaluate(model , val_loader)\n",
    "result"
   ]
  },
  {
   "cell_type": "code",
   "execution_count": 48,
   "id": "a4a5080e",
   "metadata": {},
   "outputs": [],
   "source": [
    "val_loss = evaluate(model , val_loader)"
   ]
  },
  {
   "cell_type": "code",
   "execution_count": 49,
   "id": "f27b3c3a",
   "metadata": {},
   "outputs": [
    {
     "name": "stdout",
     "output_type": "stream",
     "text": [
      "[jovian] Metrics logged.\u001b[0m\n"
     ]
    }
   ],
   "source": [
    "jovian.log_metrics(val_loss=val_loss)"
   ]
  },
  {
   "cell_type": "code",
   "execution_count": 50,
   "id": "fd717264",
   "metadata": {},
   "outputs": [
    {
     "data": {
      "application/javascript": [
       "window.require && require([\"base/js/namespace\"],function(Jupyter){Jupyter.notebook.save_checkpoint()})"
      ],
      "text/plain": [
       "<IPython.core.display.Javascript object>"
      ]
     },
     "metadata": {},
     "output_type": "display_data"
    },
    {
     "name": "stdout",
     "output_type": "stream",
     "text": [
      "[jovian] Updating notebook \"yashrsakaria1/02-insurance-linear-regression-a2\" on https://jovian.ai/\u001b[0m\n",
      "[jovian] Attaching records (metrics, hyperparameters, dataset etc.)\u001b[0m\n",
      "[jovian] Committed successfully! https://jovian.ai/yashrsakaria1/02-insurance-linear-regression-a2\u001b[0m\n"
     ]
    },
    {
     "data": {
      "text/plain": [
       "'https://jovian.ai/yashrsakaria1/02-insurance-linear-regression-a2'"
      ]
     },
     "execution_count": 50,
     "metadata": {},
     "output_type": "execute_result"
    }
   ],
   "source": [
    "jovian.commit()"
   ]
  },
  {
   "cell_type": "code",
   "execution_count": 51,
   "id": "1385951f",
   "metadata": {},
   "outputs": [],
   "source": [
    "def predict_single(input, target, model):\n",
    "    inputs = input.unsqueeze(0)\n",
    "    predictions = model(inputs)             # fill this\n",
    "    prediction = predictions[0].detach()\n",
    "    print(\"Input:\", input)\n",
    "    print(\"Target:\", target)\n",
    "    print(\"Prediction:\", prediction)"
   ]
  },
  {
   "cell_type": "code",
   "execution_count": 52,
   "id": "d892bf8f",
   "metadata": {},
   "outputs": [
    {
     "name": "stdout",
     "output_type": "stream",
     "text": [
      "Input: tensor([61.0000,  1.0000, 37.2286,  0.0000,  0.0000])\n",
      "Target: tensor([14892.5820])\n",
      "Prediction: tensor([14075.4375])\n"
     ]
    }
   ],
   "source": [
    "input, target = val_ds[0]\n",
    "predict_single(input, target, model)"
   ]
  },
  {
   "cell_type": "code",
   "execution_count": 53,
   "id": "cba421d6",
   "metadata": {},
   "outputs": [
    {
     "name": "stdout",
     "output_type": "stream",
     "text": [
      "Input: tensor([43.0000,  0.0000, 24.3276,  0.0000,  0.0000])\n",
      "Target: tensor([8423.8057])\n",
      "Prediction: tensor([10125.6572])\n"
     ]
    }
   ],
   "source": [
    "input, target = val_ds[10]\n",
    "predict_single(input, target, model)"
   ]
  },
  {
   "cell_type": "code",
   "execution_count": 54,
   "id": "3ac2b1c7",
   "metadata": {},
   "outputs": [
    {
     "name": "stdout",
     "output_type": "stream",
     "text": [
      "Input: tensor([19.0000,  1.0000, 34.4641,  0.0000,  0.0000])\n",
      "Target: tensor([1893.3942])\n",
      "Prediction: tensor([2091.3701])\n"
     ]
    }
   ],
   "source": [
    "input, target = val_ds[23]\n",
    "predict_single(input, target, model)"
   ]
  },
  {
   "cell_type": "code",
   "execution_count": 55,
   "id": "0a0a9a6e",
   "metadata": {},
   "outputs": [
    {
     "data": {
      "application/javascript": [
       "window.require && require([\"base/js/namespace\"],function(Jupyter){Jupyter.notebook.save_checkpoint()})"
      ],
      "text/plain": [
       "<IPython.core.display.Javascript object>"
      ]
     },
     "metadata": {},
     "output_type": "display_data"
    },
    {
     "name": "stdout",
     "output_type": "stream",
     "text": [
      "[jovian] Updating notebook \"yashrsakaria1/02-insurance-linear-regression-a2\" on https://jovian.ai/\u001b[0m\n",
      "[jovian] Attaching records (metrics, hyperparameters, dataset etc.)\u001b[0m\n",
      "[jovian] Committed successfully! https://jovian.ai/yashrsakaria1/02-insurance-linear-regression-a2\u001b[0m\n"
     ]
    },
    {
     "data": {
      "text/plain": [
       "'https://jovian.ai/yashrsakaria1/02-insurance-linear-regression-a2'"
      ]
     },
     "execution_count": 55,
     "metadata": {},
     "output_type": "execute_result"
    }
   ],
   "source": [
    "jovian.commit(project=project_name, environment=None)"
   ]
  },
  {
   "cell_type": "code",
   "execution_count": 56,
   "id": "5515d393",
   "metadata": {},
   "outputs": [
    {
     "data": {
      "application/javascript": [
       "window.require && require([\"base/js/namespace\"],function(Jupyter){Jupyter.notebook.save_checkpoint()})"
      ],
      "text/plain": [
       "<IPython.core.display.Javascript object>"
      ]
     },
     "metadata": {},
     "output_type": "display_data"
    },
    {
     "name": "stdout",
     "output_type": "stream",
     "text": [
      "[jovian] Updating notebook \"yashrsakaria1/02-insurance-linear-regression-a2\" on https://jovian.ai/\u001b[0m\n",
      "[jovian] Attaching records (metrics, hyperparameters, dataset etc.)\u001b[0m\n",
      "[jovian] Committed successfully! https://jovian.ai/yashrsakaria1/02-insurance-linear-regression-a2\u001b[0m\n",
      "[jovian] Submitting assignment..\u001b[0m\n",
      "[jovian] Verify your submission at https://jovian.ai/learn/deep-learning-with-pytorch-zero-to-gans/assignment/assignment-2-train-your-first-model\u001b[0m\n"
     ]
    }
   ],
   "source": [
    "jovian.submit(assignment=\"zerotogans-a2\")"
   ]
  },
  {
   "cell_type": "code",
   "execution_count": 57,
   "id": "ba84ef6f",
   "metadata": {},
   "outputs": [
    {
     "name": "stdout",
     "output_type": "stream",
     "text": [
      "Epoch [20], val_loss: 457.5213\n",
      "Epoch [40], val_loss: 457.5062\n",
      "Epoch [60], val_loss: 457.4481\n",
      "Epoch [80], val_loss: 457.4327\n",
      "Epoch [100], val_loss: 457.4121\n",
      "Epoch [120], val_loss: 457.3488\n",
      "Epoch [140], val_loss: 457.3408\n",
      "Epoch [160], val_loss: 457.3209\n",
      "Epoch [180], val_loss: 457.2704\n",
      "Epoch [200], val_loss: 457.2438\n",
      "Epoch [220], val_loss: 457.2425\n",
      "Epoch [240], val_loss: 457.2008\n",
      "Epoch [260], val_loss: 457.1794\n",
      "Epoch [280], val_loss: 457.1454\n",
      "Epoch [300], val_loss: 457.1189\n",
      "Epoch [320], val_loss: 457.0898\n",
      "Epoch [340], val_loss: 457.0588\n",
      "Epoch [360], val_loss: 457.0560\n",
      "Epoch [380], val_loss: 457.0031\n",
      "Epoch [400], val_loss: 456.9919\n",
      "Epoch [420], val_loss: 456.9630\n",
      "Epoch [440], val_loss: 456.9183\n",
      "Epoch [460], val_loss: 456.9051\n",
      "Epoch [480], val_loss: 456.8859\n",
      "Epoch [500], val_loss: 456.8454\n",
      "Epoch [520], val_loss: 456.8108\n",
      "Epoch [540], val_loss: 456.8124\n",
      "Epoch [560], val_loss: 456.7520\n",
      "Epoch [580], val_loss: 456.7196\n",
      "Epoch [600], val_loss: 456.7292\n",
      "Epoch [620], val_loss: 456.6877\n",
      "Epoch [640], val_loss: 456.6670\n",
      "Epoch [660], val_loss: 456.6324\n",
      "Epoch [680], val_loss: 456.6065\n",
      "Epoch [700], val_loss: 456.5450\n",
      "Epoch [720], val_loss: 456.5445\n",
      "Epoch [740], val_loss: 456.5338\n",
      "Epoch [760], val_loss: 456.4990\n",
      "Epoch [780], val_loss: 456.4546\n",
      "Epoch [800], val_loss: 456.4317\n",
      "Epoch [820], val_loss: 456.4001\n",
      "Epoch [840], val_loss: 456.3717\n",
      "Epoch [860], val_loss: 456.3446\n",
      "Epoch [880], val_loss: 456.3218\n",
      "Epoch [900], val_loss: 456.2816\n",
      "Epoch [920], val_loss: 456.2849\n",
      "Epoch [940], val_loss: 456.2495\n",
      "Epoch [960], val_loss: 456.2102\n",
      "Epoch [980], val_loss: 456.1921\n",
      "Epoch [1000], val_loss: 456.1641\n"
     ]
    }
   ],
   "source": [
    "history6 = fit(1000, 1e-1, model, train_loader, val_loader)"
   ]
  },
  {
   "cell_type": "code",
   "execution_count": 58,
   "id": "4cce18b3",
   "metadata": {},
   "outputs": [
    {
     "name": "stdout",
     "output_type": "stream",
     "text": [
      "Epoch [20], val_loss: 456.1525\n",
      "Epoch [40], val_loss: 456.1420\n",
      "Epoch [60], val_loss: 456.1348\n",
      "Epoch [80], val_loss: 456.1303\n",
      "Epoch [100], val_loss: 456.1285\n",
      "Epoch [120], val_loss: 456.1259\n",
      "Epoch [140], val_loss: 456.1220\n",
      "Epoch [160], val_loss: 456.1194\n",
      "Epoch [180], val_loss: 456.1160\n",
      "Epoch [200], val_loss: 456.1130\n",
      "Epoch [220], val_loss: 456.1111\n",
      "Epoch [240], val_loss: 456.1084\n",
      "Epoch [260], val_loss: 456.1047\n",
      "Epoch [280], val_loss: 456.1033\n",
      "Epoch [300], val_loss: 456.0977\n",
      "Epoch [320], val_loss: 456.0968\n",
      "Epoch [340], val_loss: 456.0943\n",
      "Epoch [360], val_loss: 456.0910\n",
      "Epoch [380], val_loss: 456.0881\n",
      "Epoch [400], val_loss: 456.0858\n",
      "Epoch [420], val_loss: 456.0841\n",
      "Epoch [440], val_loss: 456.0811\n",
      "Epoch [460], val_loss: 456.0799\n",
      "Epoch [480], val_loss: 456.0768\n",
      "Epoch [500], val_loss: 456.0740\n",
      "Epoch [520], val_loss: 456.0711\n",
      "Epoch [540], val_loss: 456.0672\n",
      "Epoch [560], val_loss: 456.0642\n",
      "Epoch [580], val_loss: 456.0601\n",
      "Epoch [600], val_loss: 456.0597\n",
      "Epoch [620], val_loss: 456.0579\n",
      "Epoch [640], val_loss: 456.0553\n",
      "Epoch [660], val_loss: 456.0529\n",
      "Epoch [680], val_loss: 456.0505\n",
      "Epoch [700], val_loss: 456.0467\n",
      "Epoch [720], val_loss: 456.0445\n",
      "Epoch [740], val_loss: 456.0420\n",
      "Epoch [760], val_loss: 456.0390\n",
      "Epoch [780], val_loss: 456.0348\n",
      "Epoch [800], val_loss: 456.0315\n",
      "Epoch [820], val_loss: 456.0288\n",
      "Epoch [840], val_loss: 456.0276\n",
      "Epoch [860], val_loss: 456.0236\n",
      "Epoch [880], val_loss: 456.0229\n",
      "Epoch [900], val_loss: 456.0204\n",
      "Epoch [920], val_loss: 456.0161\n",
      "Epoch [940], val_loss: 456.0139\n",
      "Epoch [960], val_loss: 456.0109\n",
      "Epoch [980], val_loss: 456.0095\n",
      "Epoch [1000], val_loss: 456.0046\n"
     ]
    }
   ],
   "source": [
    "history7 = fit(1000, 1e-2, model, train_loader, val_loader)"
   ]
  },
  {
   "cell_type": "code",
   "execution_count": 59,
   "id": "706788fe",
   "metadata": {},
   "outputs": [
    {
     "data": {
      "text/plain": [
       "Text(0.5, 1.0, 'Loss vs. No. of epochs')"
      ]
     },
     "execution_count": 59,
     "metadata": {},
     "output_type": "execute_result"
    },
    {
     "data": {
      "image/png": "[encoded data removed]",
      "text/plain": [
       "<Figure size 432x288 with 1 Axes>"
      ]
     },
     "metadata": {
      "needs_background": "light"
     },
     "output_type": "display_data"
    }
   ],
   "source": [
    "history = [{'val_loss': 853.8328857421875}] + history1 + history2 + history3 + history4 + history5 + history6 + history7\n",
    "losses = [result['val_loss'] for result in history]\n",
    "plt.plot(losses, '-x')\n",
    "plt.xlabel('epoch')\n",
    "plt.ylabel('loss')\n",
    "plt.title('Loss vs. No. of epochs')"
   ]
  },
  {
   "cell_type": "code",
   "execution_count": 60,
   "id": "d1b58d64",
   "metadata": {},
   "outputs": [],
   "source": [
    "torch.save(model.state_dict() , 'insurance-huberloss.pth')"
   ]
  },
  {
   "cell_type": "code",
   "execution_count": 61,
   "id": "f2b0b2ea",
   "metadata": {},
   "outputs": [
    {
     "data": {
      "text/plain": [
       "OrderedDict([('linear.weight',\n",
       "              tensor([[292.0662, -58.9106, -99.7943, 195.6400, 179.0302]])),\n",
       "             ('linear.bias', tensor([-53.4294]))])"
      ]
     },
     "execution_count": 61,
     "metadata": {},
     "output_type": "execute_result"
    }
   ],
   "source": [
    "model.state_dict()"
   ]
  },
  {
   "cell_type": "code",
   "execution_count": null,
   "id": "8db2baa5",
   "metadata": {},
   "outputs": [],
   "source": []
  }
 ],
 "metadata": {
  "kernelspec": {
   "display_name": "Python 3 (ipykernel)",
   "language": "python",
   "name": "python3"
  },
  "language_info": {
   "codemirror_mode": {
    "name": "ipython",
    "version": 3
   },
   "file_extension": ".py",
   "mimetype": "text/x-python",
   "name": "python",
   "nbconvert_exporter": "python",
   "pygments_lexer": "ipython3",
   "version": "3.10.4"
  }
 },
 "nbformat": 4,
 "nbformat_minor": 5
}
